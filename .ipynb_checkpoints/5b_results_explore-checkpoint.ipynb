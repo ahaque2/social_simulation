{
 "cells": [
  {
   "cell_type": "code",
   "execution_count": 1,
   "id": "589b661f-5832-4dab-a593-f424a8d2e58f",
   "metadata": {
    "tags": []
   },
   "outputs": [],
   "source": [
    "import pandas as pd\n",
    "import numpy as np\n",
    "import sys\n",
    "\n",
    "import pylab as plt\n",
    "import seaborn as sns\n",
    "\n",
    "import matplotlib.pyplot as plt\n",
    "import matplotlib.colors as mcolors\n",
    "import pandas as pd"
   ]
  },
  {
   "cell_type": "code",
   "execution_count": 18,
   "id": "80ab7e2d-9230-463b-b8ba-8383ef6c6d8b",
   "metadata": {
    "tags": []
   },
   "outputs": [],
   "source": [
    "i = 1\n",
    "\n",
    "def get_res_data(i):\n",
    "    \n",
    "    df_res_none = pd.read_csv(f'results/SE_run2/results_{i}0.csv')\n",
    "    df_res_low = pd.read_csv(f'results/SE_run2/results_{i}3.csv')\n",
    "    df_res_mid = pd.read_csv(f'results/SE_run2/results_{i}2.csv')\n",
    "    df_res_high = pd.read_csv(f'results/SE_run2/results_{i}1.csv')\n",
    "    \n",
    "    return df_res_none, df_res_low, df_res_mid, df_res_high\n",
    "    \n",
    "def get_final_agent_data(i):\n",
    "\n",
    "    df_fdata_none = pd.read_csv(f'results/SE_run2/final_data_{i}0.csv')\n",
    "    df_fdata_low = pd.read_csv(f'results/SE_run2/final_data_{i}3.csv')\n",
    "    df_fdata_mid = pd.read_csv(f'results/SE_run2/final_data_{i}2.csv')\n",
    "    df_fdata_high = pd.read_csv(f'results/SE_run2/final_data_{i}1.csv')\n",
    "    \n",
    "    return df_fdata_none, df_fdata_low, df_fdata_mid, df_fdata_high\n",
    "\n",
    "def get_initial_data(i):\n",
    "    \n",
    "    initial_df_comb = pd.read_csv(f'initial_data/initial_data_{i}.csv')\n",
    "    \n",
    "    return initial_df_comb"
   ]
  },
  {
   "cell_type": "code",
   "execution_count": 19,
   "id": "7032aabe-16f1-4d0d-98e8-23daaf6d2d15",
   "metadata": {
    "tags": []
   },
   "outputs": [],
   "source": [
    "agent_states_cols = ['num_of_agents_received', 'num_of_agents_not_received', 'num_of_spreader_agents', 'num_of_disinterested_agents']"
   ]
  },
  {
   "cell_type": "code",
   "execution_count": 20,
   "id": "155c2b51-56da-49e0-ae71-033eb85bb53e",
   "metadata": {
    "tags": []
   },
   "outputs": [],
   "source": [
    "df_res_none, df_res_low, df_res_mid, df_res_high = get_res_data(i)"
   ]
  },
  {
   "cell_type": "code",
   "execution_count": 21,
   "id": "1fd06cba-c2b5-4701-8132-d54a1cc1d7b1",
   "metadata": {
    "tags": []
   },
   "outputs": [],
   "source": [
    "df_fdata_none, df_fdata_low, df_fdata_mid, df_fdata_high = get_final_agent_data(i)"
   ]
  },
  {
   "cell_type": "code",
   "execution_count": 31,
   "id": "5118854d-0a10-4c96-802d-7b66c1f44912",
   "metadata": {
    "tags": []
   },
   "outputs": [
    {
     "data": {
      "text/plain": [
       "[10.372549019607844, 89.62745098039215, 0.7290416166466587, 7.153811524609844]"
      ]
     },
     "execution_count": 31,
     "metadata": {},
     "output_type": "execute_result"
    }
   ],
   "source": [
    "attr = 'num_of_agents_received'\n",
    "df_res_none[attr].mean().values.tolist()\n",
    "df_res_low[attr].mean().values.tolist()\n",
    "df_res_mid[attr].mean().values.tolist()\n",
    "df_res_high[attr].mean().values.tolist()"
   ]
  },
  {
   "cell_type": "code",
   "execution_count": 24,
   "id": "415354a9-6e38-4810-aedf-b5ed2408fedf",
   "metadata": {
    "tags": []
   },
   "outputs": [],
   "source": [
    "# df_fdata_none"
   ]
  },
  {
   "cell_type": "code",
   "execution_count": null,
   "id": "fca1b1f1-3be2-45e7-af38-af828ed8d9e8",
   "metadata": {},
   "outputs": [],
   "source": []
  },
  {
   "cell_type": "code",
   "execution_count": null,
   "id": "dd0c6b60-5ce0-4120-8ee2-debad84856b5",
   "metadata": {},
   "outputs": [],
   "source": []
  },
  {
   "cell_type": "code",
   "execution_count": null,
   "id": "555c1912-378b-4ca2-85f7-f08131ceef07",
   "metadata": {},
   "outputs": [],
   "source": []
  },
  {
   "cell_type": "code",
   "execution_count": null,
   "id": "5a817798-c114-4cd3-bcb8-888d46ae7f4a",
   "metadata": {},
   "outputs": [],
   "source": []
  },
  {
   "cell_type": "code",
   "execution_count": 7,
   "id": "e9da67b4-a88b-4b20-8cbd-7b07f112238c",
   "metadata": {
    "tags": []
   },
   "outputs": [],
   "source": [
    "def get_avg(runs, i):\n",
    "    \n",
    "    df_list = []\n",
    "    for run in range(1, runs):\n",
    "        # temp = pd.read_csv('results/SE_run2/results_' + str(run) + str(i) + '.csv')\n",
    "        # temp = pd.read_csv('results/SE_run2/final_data_' + str(run) + str(i) +'.csv')\n",
    "        temp = pd.read_csv('initial_data/initial_data_' + str(run) +'.csv')\n",
    "        df_list.append(temp)\n",
    "        # print(temp.shape)\n",
    "    #     print(df_temp.columns)\n",
    "    return sum(df_list) / len(df_list)"
   ]
  },
  {
   "cell_type": "code",
   "execution_count": 4,
   "id": "8bf73000-eb2e-44c1-9866-77942c6fef49",
   "metadata": {
    "tags": []
   },
   "outputs": [],
   "source": [
    "df_fdata_none = get_avg(8, 0)\n",
    "df_fdata_low = get_avg(8, 3)\n",
    "df_fdata_mid = get_avg(8, 2)\n",
    "df_fdata_high = get_avg(8, 1)"
   ]
  },
  {
   "cell_type": "code",
   "execution_count": 6,
   "id": "262181fa-777c-4edc-95f1-9a9f5245f771",
   "metadata": {
    "tags": []
   },
   "outputs": [],
   "source": [
    "df_res_none = get_avg(8, 0)\n",
    "df_res_low = get_avg(8, 3)\n",
    "df_res_mid = get_avg(8, 2)\n",
    "df_res_high = get_avg(8, 1)"
   ]
  },
  {
   "cell_type": "code",
   "execution_count": 8,
   "id": "4eaabe50-4d42-4958-a571-8be1eaa5e64e",
   "metadata": {
    "tags": []
   },
   "outputs": [],
   "source": [
    "initial_dfs = get_avg(8, 1)"
   ]
  },
  {
   "cell_type": "code",
   "execution_count": 10,
   "id": "4c311284-79ae-49f6-8cca-7bef6e69fe02",
   "metadata": {
    "tags": []
   },
   "outputs": [
    {
     "data": {
      "text/html": [
       "<div>\n",
       "<style scoped>\n",
       "    .dataframe tbody tr th:only-of-type {\n",
       "        vertical-align: middle;\n",
       "    }\n",
       "\n",
       "    .dataframe tbody tr th {\n",
       "        vertical-align: top;\n",
       "    }\n",
       "\n",
       "    .dataframe thead th {\n",
       "        text-align: right;\n",
       "    }\n",
       "</style>\n",
       "<table border=\"1\" class=\"dataframe\">\n",
       "  <thead>\n",
       "    <tr style=\"text-align: right;\">\n",
       "      <th></th>\n",
       "      <th>Unnamed: 0</th>\n",
       "      <th>topic_1</th>\n",
       "      <th>topic_2</th>\n",
       "      <th>topic_3</th>\n",
       "      <th>topic_4</th>\n",
       "      <th>topic_5</th>\n",
       "      <th>topic_6</th>\n",
       "      <th>privacy</th>\n",
       "      <th>activity</th>\n",
       "      <th>satisfaction</th>\n",
       "      <th>lat_acc</th>\n",
       "      <th>lat_rej</th>\n",
       "      <th>id</th>\n",
       "      <th>pol_inclination</th>\n",
       "    </tr>\n",
       "  </thead>\n",
       "  <tbody>\n",
       "    <tr>\n",
       "      <th>0</th>\n",
       "      <td>0.0</td>\n",
       "      <td>0.499958</td>\n",
       "      <td>0.669347</td>\n",
       "      <td>0.321633</td>\n",
       "      <td>-0.389063</td>\n",
       "      <td>-0.486915</td>\n",
       "      <td>-0.404718</td>\n",
       "      <td>0.287057</td>\n",
       "      <td>0.287057</td>\n",
       "      <td>0.0</td>\n",
       "      <td>0.398670</td>\n",
       "      <td>1.601330</td>\n",
       "      <td>0.0</td>\n",
       "      <td>0.461939</td>\n",
       "    </tr>\n",
       "    <tr>\n",
       "      <th>1</th>\n",
       "      <td>1.0</td>\n",
       "      <td>0.378658</td>\n",
       "      <td>0.229120</td>\n",
       "      <td>0.293534</td>\n",
       "      <td>-0.228510</td>\n",
       "      <td>-0.199827</td>\n",
       "      <td>-0.250231</td>\n",
       "      <td>0.172410</td>\n",
       "      <td>0.172410</td>\n",
       "      <td>0.0</td>\n",
       "      <td>0.523254</td>\n",
       "      <td>1.476746</td>\n",
       "      <td>1.0</td>\n",
       "      <td>0.263313</td>\n",
       "    </tr>\n",
       "    <tr>\n",
       "      <th>2</th>\n",
       "      <td>2.0</td>\n",
       "      <td>0.476928</td>\n",
       "      <td>0.353972</td>\n",
       "      <td>0.385975</td>\n",
       "      <td>-0.442029</td>\n",
       "      <td>-0.254073</td>\n",
       "      <td>-0.330797</td>\n",
       "      <td>0.300928</td>\n",
       "      <td>0.300928</td>\n",
       "      <td>0.0</td>\n",
       "      <td>0.474221</td>\n",
       "      <td>1.525779</td>\n",
       "      <td>2.0</td>\n",
       "      <td>0.373962</td>\n",
       "    </tr>\n",
       "    <tr>\n",
       "      <th>3</th>\n",
       "      <td>3.0</td>\n",
       "      <td>0.521170</td>\n",
       "      <td>0.461912</td>\n",
       "      <td>0.489996</td>\n",
       "      <td>-0.369442</td>\n",
       "      <td>-0.209294</td>\n",
       "      <td>-0.226955</td>\n",
       "      <td>0.369724</td>\n",
       "      <td>0.369724</td>\n",
       "      <td>0.0</td>\n",
       "      <td>0.515613</td>\n",
       "      <td>1.484387</td>\n",
       "      <td>3.0</td>\n",
       "      <td>0.379795</td>\n",
       "    </tr>\n",
       "    <tr>\n",
       "      <th>4</th>\n",
       "      <td>4.0</td>\n",
       "      <td>0.326914</td>\n",
       "      <td>0.333469</td>\n",
       "      <td>0.261124</td>\n",
       "      <td>-0.479330</td>\n",
       "      <td>-0.294520</td>\n",
       "      <td>-0.432452</td>\n",
       "      <td>0.466356</td>\n",
       "      <td>0.466356</td>\n",
       "      <td>0.0</td>\n",
       "      <td>0.646943</td>\n",
       "      <td>1.353057</td>\n",
       "      <td>4.0</td>\n",
       "      <td>0.354635</td>\n",
       "    </tr>\n",
       "    <tr>\n",
       "      <th>...</th>\n",
       "      <td>...</td>\n",
       "      <td>...</td>\n",
       "      <td>...</td>\n",
       "      <td>...</td>\n",
       "      <td>...</td>\n",
       "      <td>...</td>\n",
       "      <td>...</td>\n",
       "      <td>...</td>\n",
       "      <td>...</td>\n",
       "      <td>...</td>\n",
       "      <td>...</td>\n",
       "      <td>...</td>\n",
       "      <td>...</td>\n",
       "      <td>...</td>\n",
       "    </tr>\n",
       "    <tr>\n",
       "      <th>98</th>\n",
       "      <td>98.0</td>\n",
       "      <td>-0.453207</td>\n",
       "      <td>-0.460584</td>\n",
       "      <td>-0.169928</td>\n",
       "      <td>0.311074</td>\n",
       "      <td>0.275729</td>\n",
       "      <td>0.399733</td>\n",
       "      <td>0.327954</td>\n",
       "      <td>0.327954</td>\n",
       "      <td>0.0</td>\n",
       "      <td>0.535787</td>\n",
       "      <td>1.464213</td>\n",
       "      <td>98.0</td>\n",
       "      <td>-0.345042</td>\n",
       "    </tr>\n",
       "    <tr>\n",
       "      <th>99</th>\n",
       "      <td>99.0</td>\n",
       "      <td>-0.475516</td>\n",
       "      <td>-0.191701</td>\n",
       "      <td>-0.510822</td>\n",
       "      <td>0.422086</td>\n",
       "      <td>0.348315</td>\n",
       "      <td>0.327066</td>\n",
       "      <td>0.198451</td>\n",
       "      <td>0.198451</td>\n",
       "      <td>0.0</td>\n",
       "      <td>0.457761</td>\n",
       "      <td>1.542239</td>\n",
       "      <td>99.0</td>\n",
       "      <td>-0.379251</td>\n",
       "    </tr>\n",
       "    <tr>\n",
       "      <th>100</th>\n",
       "      <td>100.0</td>\n",
       "      <td>0.000000</td>\n",
       "      <td>0.000000</td>\n",
       "      <td>0.000000</td>\n",
       "      <td>0.000000</td>\n",
       "      <td>0.000000</td>\n",
       "      <td>0.000000</td>\n",
       "      <td>1.000000</td>\n",
       "      <td>1.000000</td>\n",
       "      <td>0.0</td>\n",
       "      <td>0.000000</td>\n",
       "      <td>1.000000</td>\n",
       "      <td>100.0</td>\n",
       "      <td>0.000000</td>\n",
       "    </tr>\n",
       "    <tr>\n",
       "      <th>101</th>\n",
       "      <td>101.0</td>\n",
       "      <td>1.000000</td>\n",
       "      <td>1.000000</td>\n",
       "      <td>1.000000</td>\n",
       "      <td>-1.000000</td>\n",
       "      <td>-1.000000</td>\n",
       "      <td>-1.000000</td>\n",
       "      <td>1.000000</td>\n",
       "      <td>1.000000</td>\n",
       "      <td>0.0</td>\n",
       "      <td>0.000000</td>\n",
       "      <td>1.000000</td>\n",
       "      <td>101.0</td>\n",
       "      <td>1.000000</td>\n",
       "    </tr>\n",
       "    <tr>\n",
       "      <th>102</th>\n",
       "      <td>102.0</td>\n",
       "      <td>-1.000000</td>\n",
       "      <td>-1.000000</td>\n",
       "      <td>-1.000000</td>\n",
       "      <td>1.000000</td>\n",
       "      <td>1.000000</td>\n",
       "      <td>1.000000</td>\n",
       "      <td>1.000000</td>\n",
       "      <td>1.000000</td>\n",
       "      <td>0.0</td>\n",
       "      <td>0.000000</td>\n",
       "      <td>1.000000</td>\n",
       "      <td>102.0</td>\n",
       "      <td>-1.000000</td>\n",
       "    </tr>\n",
       "  </tbody>\n",
       "</table>\n",
       "<p>103 rows × 14 columns</p>\n",
       "</div>"
      ],
      "text/plain": [
       "     Unnamed: 0   topic_1   topic_2   topic_3   topic_4   topic_5   topic_6  \\\n",
       "0           0.0  0.499958  0.669347  0.321633 -0.389063 -0.486915 -0.404718   \n",
       "1           1.0  0.378658  0.229120  0.293534 -0.228510 -0.199827 -0.250231   \n",
       "2           2.0  0.476928  0.353972  0.385975 -0.442029 -0.254073 -0.330797   \n",
       "3           3.0  0.521170  0.461912  0.489996 -0.369442 -0.209294 -0.226955   \n",
       "4           4.0  0.326914  0.333469  0.261124 -0.479330 -0.294520 -0.432452   \n",
       "..          ...       ...       ...       ...       ...       ...       ...   \n",
       "98         98.0 -0.453207 -0.460584 -0.169928  0.311074  0.275729  0.399733   \n",
       "99         99.0 -0.475516 -0.191701 -0.510822  0.422086  0.348315  0.327066   \n",
       "100       100.0  0.000000  0.000000  0.000000  0.000000  0.000000  0.000000   \n",
       "101       101.0  1.000000  1.000000  1.000000 -1.000000 -1.000000 -1.000000   \n",
       "102       102.0 -1.000000 -1.000000 -1.000000  1.000000  1.000000  1.000000   \n",
       "\n",
       "      privacy  activity  satisfaction   lat_acc   lat_rej     id  \\\n",
       "0    0.287057  0.287057           0.0  0.398670  1.601330    0.0   \n",
       "1    0.172410  0.172410           0.0  0.523254  1.476746    1.0   \n",
       "2    0.300928  0.300928           0.0  0.474221  1.525779    2.0   \n",
       "3    0.369724  0.369724           0.0  0.515613  1.484387    3.0   \n",
       "4    0.466356  0.466356           0.0  0.646943  1.353057    4.0   \n",
       "..        ...       ...           ...       ...       ...    ...   \n",
       "98   0.327954  0.327954           0.0  0.535787  1.464213   98.0   \n",
       "99   0.198451  0.198451           0.0  0.457761  1.542239   99.0   \n",
       "100  1.000000  1.000000           0.0  0.000000  1.000000  100.0   \n",
       "101  1.000000  1.000000           0.0  0.000000  1.000000  101.0   \n",
       "102  1.000000  1.000000           0.0  0.000000  1.000000  102.0   \n",
       "\n",
       "     pol_inclination  \n",
       "0           0.461939  \n",
       "1           0.263313  \n",
       "2           0.373962  \n",
       "3           0.379795  \n",
       "4           0.354635  \n",
       "..               ...  \n",
       "98         -0.345042  \n",
       "99         -0.379251  \n",
       "100         0.000000  \n",
       "101         1.000000  \n",
       "102        -1.000000  \n",
       "\n",
       "[103 rows x 14 columns]"
      ]
     },
     "execution_count": 10,
     "metadata": {},
     "output_type": "execute_result"
    }
   ],
   "source": [
    "initial_dfs"
   ]
  },
  {
   "cell_type": "code",
   "execution_count": null,
   "id": "f6e4a23b-cb3c-4a43-80a0-1404b098c7ce",
   "metadata": {},
   "outputs": [],
   "source": []
  }
 ],
 "metadata": {
  "kernelspec": {
   "display_name": "py3_10",
   "language": "python",
   "name": "py3_10"
  },
  "language_info": {
   "codemirror_mode": {
    "name": "ipython",
    "version": 3
   },
   "file_extension": ".py",
   "mimetype": "text/x-python",
   "name": "python",
   "nbconvert_exporter": "python",
   "pygments_lexer": "ipython3",
   "version": "3.10.12"
  }
 },
 "nbformat": 4,
 "nbformat_minor": 5
}
