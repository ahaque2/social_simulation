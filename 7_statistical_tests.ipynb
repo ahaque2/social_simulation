{
 "cells": [
  {
   "cell_type": "markdown",
   "metadata": {},
   "source": [
    "### Code for statistical tests to compare metrics across different experimental setups"
   ]
  },
  {
   "cell_type": "code",
   "execution_count": 1,
   "metadata": {
    "tags": []
   },
   "outputs": [],
   "source": [
    "import scipy.stats as stats\n",
    "import pandas as pd\n",
    "import numpy as np\n",
    "import sys\n",
    "from scipy.stats import ranksums\n",
    "\n",
    "import numpy as np\n",
    "import statsmodels.api as statmod\n",
    "import matplotlib.pyplot as plt"
   ]
  },
  {
   "cell_type": "code",
   "execution_count": 2,
   "metadata": {
    "tags": []
   },
   "outputs": [],
   "source": [
    "# # df_final_data = pd.read_csv('results/new_results_3/SE/final_data_100.csv')\n",
    "# run = str(runs[7])\n",
    "# df_results_high = pd.read_csv('results/final_results/TOL/results_' + run + '0.csv')\n",
    "# df_results_med = pd.read_csv('results/final_results/TOL/results_' + run + '1.csv')\n",
    "# df_results_low = pd.read_csv('results/final_results/TOL/results_' + run + '2.csv')\n",
    "# df_results_high.columns"
   ]
  },
  {
   "cell_type": "code",
   "execution_count": 5,
   "metadata": {
    "tags": []
   },
   "outputs": [],
   "source": [
    "df_1 = pd.read_csv('results/SE/results_combined_None_SE.csv')\n",
    "df_2 = pd.read_csv('results/SE/results_combined_low_SE.csv')\n",
    "df_3 = pd.read_csv('results/SE/results_combined_med_SE.csv')\n",
    "df_4 = pd.read_csv('results/SE/results_combined_high_SE.csv')"
   ]
  },
  {
   "cell_type": "code",
   "execution_count": 6,
   "metadata": {
    "tags": []
   },
   "outputs": [],
   "source": [
    "# df_1 = pd.read_csv('results/final_results/TOL_avg/TOL_high_avg.csv')\n",
    "# df_2 = pd.read_csv('results/final_results/TOL_avg/TOL_med_avg.csv')\n",
    "# df_3 = pd.read_csv('results/final_results/TOL_avg/TOL_low_avg.csv')"
   ]
  },
  {
   "cell_type": "code",
   "execution_count": 7,
   "metadata": {
    "tags": []
   },
   "outputs": [
    {
     "data": {
      "text/plain": [
       "Index(['Unnamed: 0', 'Unnamed: 0.1', 'topic', 'post_stance', 'author_id',\n",
       "       'num_of_agents_received', 'num_of_agents_not_received',\n",
       "       'num_of_spreader_agents', 'num_of_disinterested_agents',\n",
       "       'network_polarization', 'net_polarization2', 'network_homophily',\n",
       "       'network_homophily2', 'network_polarity', 'satisfaction', 'activity',\n",
       "       'user_preference'],\n",
       "      dtype='object')"
      ]
     },
     "execution_count": 7,
     "metadata": {},
     "output_type": "execute_result"
    }
   ],
   "source": [
    "df_1.columns"
   ]
  },
  {
   "cell_type": "code",
   "execution_count": 8,
   "metadata": {
    "tags": []
   },
   "outputs": [],
   "source": [
    "# stats.f_oneway(df_1['net_polarization2'].iloc[0:10], df_2['net_polarization2'].iloc[0:10], df_3['net_polarization2'].iloc[0:10], df_4['net_polarization2'].iloc[0:10])\n",
    "# stats.f_oneway(df_1['net_polarization2'], df_2['net_polarization2'])"
   ]
  },
  {
   "cell_type": "code",
   "execution_count": 9,
   "metadata": {
    "tags": []
   },
   "outputs": [],
   "source": [
    "# #create dataset with 100 values that follow a normal distribution\n",
    "# data = np.random.normal(0,1,100)\n",
    "# #create Q-Q plot with 45-degree line added to plot\n",
    "# fig = statmod.qqplot(data, line='45')\n",
    "# plt.show()"
   ]
  },
  {
   "cell_type": "markdown",
   "metadata": {},
   "source": [
    "## Initial Population's Basic Distribution stats"
   ]
  },
  {
   "cell_type": "code",
   "execution_count": 10,
   "metadata": {
    "collapsed": true,
    "jupyter": {
     "outputs_hidden": true
    },
    "tags": []
   },
   "outputs": [
    {
     "ename": "KeyError",
     "evalue": "'privacy_preference'",
     "output_type": "error",
     "traceback": [
      "\u001b[0;31m---------------------------------------------------------------------------\u001b[0m",
      "\u001b[0;31mKeyError\u001b[0m                                  Traceback (most recent call last)",
      "\u001b[0;32m~/venv/py3_10/lib/python3.10/site-packages/pandas/core/indexes/base.py\u001b[0m in \u001b[0;36mget_loc\u001b[0;34m(self, key, method, tolerance)\u001b[0m\n\u001b[1;32m   3360\u001b[0m             \u001b[0;32mtry\u001b[0m\u001b[0;34m:\u001b[0m\u001b[0;34m\u001b[0m\u001b[0;34m\u001b[0m\u001b[0m\n\u001b[0;32m-> 3361\u001b[0;31m                 \u001b[0;32mreturn\u001b[0m \u001b[0mself\u001b[0m\u001b[0;34m.\u001b[0m\u001b[0m_engine\u001b[0m\u001b[0;34m.\u001b[0m\u001b[0mget_loc\u001b[0m\u001b[0;34m(\u001b[0m\u001b[0mcasted_key\u001b[0m\u001b[0;34m)\u001b[0m\u001b[0;34m\u001b[0m\u001b[0;34m\u001b[0m\u001b[0m\n\u001b[0m\u001b[1;32m   3362\u001b[0m             \u001b[0;32mexcept\u001b[0m \u001b[0mKeyError\u001b[0m \u001b[0;32mas\u001b[0m \u001b[0merr\u001b[0m\u001b[0;34m:\u001b[0m\u001b[0;34m\u001b[0m\u001b[0;34m\u001b[0m\u001b[0m\n",
      "\u001b[0;32m~/venv/py3_10/lib/python3.10/site-packages/pandas/_libs/index.pyx\u001b[0m in \u001b[0;36mpandas._libs.index.IndexEngine.get_loc\u001b[0;34m()\u001b[0m\n",
      "\u001b[0;32m~/venv/py3_10/lib/python3.10/site-packages/pandas/_libs/index.pyx\u001b[0m in \u001b[0;36mpandas._libs.index.IndexEngine.get_loc\u001b[0;34m()\u001b[0m\n",
      "\u001b[0;32mpandas/_libs/hashtable_class_helper.pxi\u001b[0m in \u001b[0;36mpandas._libs.hashtable.PyObjectHashTable.get_item\u001b[0;34m()\u001b[0m\n",
      "\u001b[0;32mpandas/_libs/hashtable_class_helper.pxi\u001b[0m in \u001b[0;36mpandas._libs.hashtable.PyObjectHashTable.get_item\u001b[0;34m()\u001b[0m\n",
      "\u001b[0;31mKeyError\u001b[0m: 'privacy_preference'",
      "\nThe above exception was the direct cause of the following exception:\n",
      "\u001b[0;31mKeyError\u001b[0m                                  Traceback (most recent call last)",
      "\u001b[0;32m/tmp/ipykernel_3030913/4157757899.py\u001b[0m in \u001b[0;36m<cell line: 6>\u001b[0;34m()\u001b[0m\n\u001b[1;32m      7\u001b[0m     \u001b[0mdata\u001b[0m \u001b[0;34m=\u001b[0m \u001b[0mpd\u001b[0m\u001b[0;34m.\u001b[0m\u001b[0mread_csv\u001b[0m\u001b[0;34m(\u001b[0m\u001b[0;34m'initial_data/initial_data_'\u001b[0m \u001b[0;34m+\u001b[0m \u001b[0mstr\u001b[0m\u001b[0;34m(\u001b[0m\u001b[0mi\u001b[0m\u001b[0;34m)\u001b[0m \u001b[0;34m+\u001b[0m \u001b[0;34m'.csv'\u001b[0m\u001b[0;34m)\u001b[0m\u001b[0;34m\u001b[0m\u001b[0;34m\u001b[0m\u001b[0m\n\u001b[1;32m      8\u001b[0m \u001b[0;31m#     print(kurtosis(data['user_activity'], bias=False), kurtosis(data['pol_inclination'], bias=False))\u001b[0m\u001b[0;34m\u001b[0m\u001b[0;34m\u001b[0m\u001b[0m\n\u001b[0;32m----> 9\u001b[0;31m     \u001b[0mavg_pp\u001b[0m\u001b[0;34m.\u001b[0m\u001b[0mappend\u001b[0m\u001b[0;34m(\u001b[0m\u001b[0mdata\u001b[0m\u001b[0;34m[\u001b[0m\u001b[0;34m'privacy_preference'\u001b[0m\u001b[0;34m]\u001b[0m\u001b[0;34m.\u001b[0m\u001b[0mmean\u001b[0m\u001b[0;34m(\u001b[0m\u001b[0;34m)\u001b[0m\u001b[0;34m)\u001b[0m\u001b[0;34m\u001b[0m\u001b[0;34m\u001b[0m\u001b[0m\n\u001b[0m\u001b[1;32m     10\u001b[0m     \u001b[0mstd_pp\u001b[0m\u001b[0;34m.\u001b[0m\u001b[0mappend\u001b[0m\u001b[0;34m(\u001b[0m\u001b[0mdata\u001b[0m\u001b[0;34m[\u001b[0m\u001b[0;34m'privacy_preference'\u001b[0m\u001b[0;34m]\u001b[0m\u001b[0;34m.\u001b[0m\u001b[0mstd\u001b[0m\u001b[0;34m(\u001b[0m\u001b[0;34m)\u001b[0m\u001b[0;34m)\u001b[0m\u001b[0;34m\u001b[0m\u001b[0;34m\u001b[0m\u001b[0m\n\u001b[1;32m     11\u001b[0m     \u001b[0mavg_pol\u001b[0m\u001b[0;34m.\u001b[0m\u001b[0mappend\u001b[0m\u001b[0;34m(\u001b[0m\u001b[0mdata\u001b[0m\u001b[0;34m[\u001b[0m\u001b[0;34m'pol_inclination'\u001b[0m\u001b[0;34m]\u001b[0m\u001b[0;34m.\u001b[0m\u001b[0mmean\u001b[0m\u001b[0;34m(\u001b[0m\u001b[0;34m)\u001b[0m\u001b[0;34m)\u001b[0m\u001b[0;34m\u001b[0m\u001b[0;34m\u001b[0m\u001b[0m\n",
      "\u001b[0;32m~/venv/py3_10/lib/python3.10/site-packages/pandas/core/frame.py\u001b[0m in \u001b[0;36m__getitem__\u001b[0;34m(self, key)\u001b[0m\n\u001b[1;32m   3456\u001b[0m             \u001b[0;32mif\u001b[0m \u001b[0mself\u001b[0m\u001b[0;34m.\u001b[0m\u001b[0mcolumns\u001b[0m\u001b[0;34m.\u001b[0m\u001b[0mnlevels\u001b[0m \u001b[0;34m>\u001b[0m \u001b[0;36m1\u001b[0m\u001b[0;34m:\u001b[0m\u001b[0;34m\u001b[0m\u001b[0;34m\u001b[0m\u001b[0m\n\u001b[1;32m   3457\u001b[0m                 \u001b[0;32mreturn\u001b[0m \u001b[0mself\u001b[0m\u001b[0;34m.\u001b[0m\u001b[0m_getitem_multilevel\u001b[0m\u001b[0;34m(\u001b[0m\u001b[0mkey\u001b[0m\u001b[0;34m)\u001b[0m\u001b[0;34m\u001b[0m\u001b[0;34m\u001b[0m\u001b[0m\n\u001b[0;32m-> 3458\u001b[0;31m             \u001b[0mindexer\u001b[0m \u001b[0;34m=\u001b[0m \u001b[0mself\u001b[0m\u001b[0;34m.\u001b[0m\u001b[0mcolumns\u001b[0m\u001b[0;34m.\u001b[0m\u001b[0mget_loc\u001b[0m\u001b[0;34m(\u001b[0m\u001b[0mkey\u001b[0m\u001b[0;34m)\u001b[0m\u001b[0;34m\u001b[0m\u001b[0;34m\u001b[0m\u001b[0m\n\u001b[0m\u001b[1;32m   3459\u001b[0m             \u001b[0;32mif\u001b[0m \u001b[0mis_integer\u001b[0m\u001b[0;34m(\u001b[0m\u001b[0mindexer\u001b[0m\u001b[0;34m)\u001b[0m\u001b[0;34m:\u001b[0m\u001b[0;34m\u001b[0m\u001b[0;34m\u001b[0m\u001b[0m\n\u001b[1;32m   3460\u001b[0m                 \u001b[0mindexer\u001b[0m \u001b[0;34m=\u001b[0m \u001b[0;34m[\u001b[0m\u001b[0mindexer\u001b[0m\u001b[0;34m]\u001b[0m\u001b[0;34m\u001b[0m\u001b[0;34m\u001b[0m\u001b[0m\n",
      "\u001b[0;32m~/venv/py3_10/lib/python3.10/site-packages/pandas/core/indexes/base.py\u001b[0m in \u001b[0;36mget_loc\u001b[0;34m(self, key, method, tolerance)\u001b[0m\n\u001b[1;32m   3361\u001b[0m                 \u001b[0;32mreturn\u001b[0m \u001b[0mself\u001b[0m\u001b[0;34m.\u001b[0m\u001b[0m_engine\u001b[0m\u001b[0;34m.\u001b[0m\u001b[0mget_loc\u001b[0m\u001b[0;34m(\u001b[0m\u001b[0mcasted_key\u001b[0m\u001b[0;34m)\u001b[0m\u001b[0;34m\u001b[0m\u001b[0;34m\u001b[0m\u001b[0m\n\u001b[1;32m   3362\u001b[0m             \u001b[0;32mexcept\u001b[0m \u001b[0mKeyError\u001b[0m \u001b[0;32mas\u001b[0m \u001b[0merr\u001b[0m\u001b[0;34m:\u001b[0m\u001b[0;34m\u001b[0m\u001b[0;34m\u001b[0m\u001b[0m\n\u001b[0;32m-> 3363\u001b[0;31m                 \u001b[0;32mraise\u001b[0m \u001b[0mKeyError\u001b[0m\u001b[0;34m(\u001b[0m\u001b[0mkey\u001b[0m\u001b[0;34m)\u001b[0m \u001b[0;32mfrom\u001b[0m \u001b[0merr\u001b[0m\u001b[0;34m\u001b[0m\u001b[0;34m\u001b[0m\u001b[0m\n\u001b[0m\u001b[1;32m   3364\u001b[0m \u001b[0;34m\u001b[0m\u001b[0m\n\u001b[1;32m   3365\u001b[0m         \u001b[0;32mif\u001b[0m \u001b[0mis_scalar\u001b[0m\u001b[0;34m(\u001b[0m\u001b[0mkey\u001b[0m\u001b[0;34m)\u001b[0m \u001b[0;32mand\u001b[0m \u001b[0misna\u001b[0m\u001b[0;34m(\u001b[0m\u001b[0mkey\u001b[0m\u001b[0;34m)\u001b[0m \u001b[0;32mand\u001b[0m \u001b[0;32mnot\u001b[0m \u001b[0mself\u001b[0m\u001b[0;34m.\u001b[0m\u001b[0mhasnans\u001b[0m\u001b[0;34m:\u001b[0m\u001b[0;34m\u001b[0m\u001b[0;34m\u001b[0m\u001b[0m\n",
      "\u001b[0;31mKeyError\u001b[0m: 'privacy_preference'"
     ]
    }
   ],
   "source": [
    "from scipy.stats import skew, kurtosis\n",
    "\n",
    "kur_ua, kur_pov, kur_pp = [], [], []\n",
    "avg_pp, avg_pol, avg_ua = [], [], []\n",
    "std_pp, std_pol, std_ua = [], [], []\n",
    "for i in range(1,11):\n",
    "    data = pd.read_csv('initial_data/initial_data_' + str(i) + '.csv')\n",
    "#     print(kurtosis(data['user_activity'], bias=False), kurtosis(data['pol_inclination'], bias=False))\n",
    "    avg_pp.append(data['privacy_preference'].mean())\n",
    "    std_pp.append(data['privacy_preference'].std())\n",
    "    avg_pol.append(data['pol_inclination'].mean())\n",
    "    std_pol.append(data['pol_inclination'].std())\n",
    "    avg_ua.append(data['user_activity'].mean())\n",
    "    std_ua.append(data['user_activity'].std())\n",
    "    kur_ua.append(kurtosis(data['user_activity'], bias=False))\n",
    "    kur_pov.append(kurtosis(data['pol_inclination'], bias=False))\n",
    "    kur_pp.append(kurtosis(data['privacy_preference'], bias=False))\n",
    "    \n",
    "print(sum(kur_ua)/len(kur_ua), sum(kur_pov)/len(kur_pov), sum(kur_pp)/len(kur_pp))\n",
    "print(sum(avg_ua)/len(avg_ua), sum(avg_pol)/len(avg_pol), sum(avg_pp)/len(avg_pp))\n",
    "print(sum(std_ua)/len(std_ua), sum(std_pol)/len(std_pol), sum(std_pp)/len(std_pp))"
   ]
  },
  {
   "cell_type": "code",
   "execution_count": null,
   "metadata": {},
   "outputs": [],
   "source": [
    "df_1['net_polarization2'].describe()"
   ]
  },
  {
   "cell_type": "code",
   "execution_count": null,
   "metadata": {},
   "outputs": [],
   "source": []
  },
  {
   "cell_type": "code",
   "execution_count": null,
   "metadata": {},
   "outputs": [],
   "source": []
  },
  {
   "cell_type": "code",
   "execution_count": null,
   "metadata": {},
   "outputs": [],
   "source": []
  },
  {
   "cell_type": "code",
   "execution_count": null,
   "metadata": {},
   "outputs": [],
   "source": []
  },
  {
   "cell_type": "markdown",
   "metadata": {},
   "source": [
    "## Normality Test"
   ]
  },
  {
   "cell_type": "code",
   "execution_count": 127,
   "metadata": {},
   "outputs": [],
   "source": [
    "from scipy import stats\n",
    "import matplotlib.pyplot as plt"
   ]
  },
  {
   "cell_type": "code",
   "execution_count": 11,
   "metadata": {
    "tags": []
   },
   "outputs": [
    {
     "data": {
      "text/plain": [
       "Index(['Unnamed: 0', 'Unnamed: 0.1', 'Unnamed: 0.1.1', 'topic_1', 'topic_2',\n",
       "       'topic_3', 'topic_4', 'topic_5', 'topic_6', 'privacy', 'activity',\n",
       "       'satisfaction', 'lat_acc', 'lat_rej', 'id', 'pol_inclination'],\n",
       "      dtype='object')"
      ]
     },
     "execution_count": 11,
     "metadata": {},
     "output_type": "execute_result"
    }
   ],
   "source": [
    "final_data = pd.read_csv('results/SE/final_data_combined_none_SE.csv')\n",
    "initial_data = pd.read_csv('initial_data/initial_data_comb.csv')\n",
    "final_data.columns"
   ]
  },
  {
   "cell_type": "code",
   "execution_count": 12,
   "metadata": {
    "tags": []
   },
   "outputs": [],
   "source": [
    "final_data['pov_change'] = final_data['pol_inclination'] - initial_data['pol_inclination']"
   ]
  },
  {
   "cell_type": "code",
   "execution_count": 13,
   "metadata": {
    "tags": []
   },
   "outputs": [
    {
     "data": {
      "text/plain": [
       "count    103.000000\n",
       "mean       0.031187\n",
       "std        0.507863\n",
       "min       -2.000000\n",
       "25%       -0.398042\n",
       "50%        0.000000\n",
       "75%        0.434596\n",
       "max        2.000000\n",
       "Name: pov_change, dtype: float64"
      ]
     },
     "execution_count": 13,
     "metadata": {},
     "output_type": "execute_result"
    }
   ],
   "source": [
    "final_data['pov_change'].describe()"
   ]
  },
  {
   "cell_type": "code",
   "execution_count": null,
   "metadata": {},
   "outputs": [],
   "source": []
  },
  {
   "cell_type": "code",
   "execution_count": null,
   "metadata": {},
   "outputs": [],
   "source": []
  },
  {
   "cell_type": "code",
   "execution_count": 131,
   "metadata": {},
   "outputs": [],
   "source": [
    "final_data1 = pd.read_csv('results/final_results/TOL_avg/final_data_low.csv')\n",
    "final_data2 = pd.read_csv('results/final_results/TOL_avg/final_data_high.csv')"
   ]
  },
  {
   "cell_type": "code",
   "execution_count": 14,
   "metadata": {
    "tags": []
   },
   "outputs": [
    {
     "name": "stderr",
     "output_type": "stream",
     "text": [
      "/tmp/ipykernel_3030913/416580358.py:4: UserWarning: \n",
      "\n",
      "`distplot` is a deprecated function and will be removed in seaborn v0.14.0.\n",
      "\n",
      "Please adapt your code to use either `displot` (a figure-level function with\n",
      "similar flexibility) or `histplot` (an axes-level function for histograms).\n",
      "\n",
      "For a guide to updating your code to use the new functions, please see\n",
      "https://gist.github.com/mwaskom/de44147ed2974457ad6372750bbe5751\n",
      "\n",
      "  sns.distplot(df_1['net_polarization2'],ax=ax)\n"
     ]
    },
    {
     "data": {
      "image/png": "[encoded data removed]",
      "text/plain": [
       "<Figure size 800x400 with 1 Axes>"
      ]
     },
     "metadata": {},
     "output_type": "display_data"
    }
   ],
   "source": [
    "fig = plt.figure(figsize=(8, 4))\n",
    "ax = fig.add_subplot()\n",
    "import seaborn as sns\n",
    "sns.distplot(df_1['net_polarization2'],ax=ax)\n",
    "# sns.distplot(final_data1['pol_inclination'],ax=ax)\n",
    "plt.show()"
   ]
  },
  {
   "cell_type": "code",
   "execution_count": 18,
   "metadata": {
    "tags": []
   },
   "outputs": [
    {
     "data": {
      "text/plain": [
       "ShapiroResult(statistic=0.6325036883354187, pvalue=0.0)"
      ]
     },
     "execution_count": 18,
     "metadata": {},
     "output_type": "execute_result"
    },
    {
     "data": {
      "image/png": "[encoded data removed]",
      "text/plain": [
       "<Figure size 640x480 with 1 Axes>"
      ]
     },
     "metadata": {},
     "output_type": "display_data"
    }
   ],
   "source": [
    "stats.probplot(df_1['net_polarization2'], dist=\"norm\", plot=plt)\n",
    "stats.shapiro(df_1['net_polarization2'])\n",
    "# stats.probplot(df_1['network_polarization'], dist=\"norm\", plot=plt)"
   ]
  },
  {
   "cell_type": "code",
   "execution_count": 19,
   "metadata": {
    "tags": []
   },
   "outputs": [
    {
     "data": {
      "text/plain": [
       "ShapiroResult(statistic=0.910680890083313, pvalue=3.4878416954597924e-06)"
      ]
     },
     "execution_count": 19,
     "metadata": {},
     "output_type": "execute_result"
    },
    {
     "data": {
      "image/png": "[encoded data removed]",
      "text/plain": [
       "<Figure size 640x480 with 1 Axes>"
      ]
     },
     "metadata": {},
     "output_type": "display_data"
    }
   ],
   "source": [
    "initial_data_ = pd.read_csv('initial_data/initial_data_1.csv')\n",
    "\n",
    "stats.probplot(initial_data_['pol_inclination'], dist=\"norm\", plot=plt)\n",
    "stats.shapiro(initial_data_['pol_inclination'])"
   ]
  },
  {
   "cell_type": "code",
   "execution_count": null,
   "metadata": {},
   "outputs": [],
   "source": []
  },
  {
   "cell_type": "code",
   "execution_count": 156,
   "metadata": {},
   "outputs": [
    {
     "data": {
      "text/plain": [
       "Index(['Unnamed: 0', 'party_mentioned', 'post_stance', 'author_id',\n",
       "       'num_of_agents_received', 'num_of_agents_not_received',\n",
       "       'num_of_spreader_agents', 'num_of_disinterested_agents',\n",
       "       'network_polarization', 'net_polarization2', 'network_homophily',\n",
       "       'network_homophily2', 'network_polarity', 'user_satisfaction',\n",
       "       'user_activity'],\n",
       "      dtype='object')"
      ]
     },
     "execution_count": 156,
     "metadata": {},
     "output_type": "execute_result"
    }
   ],
   "source": [
    "none_se_data.columns"
   ]
  },
  {
   "cell_type": "markdown",
   "metadata": {},
   "source": [
    "## Non-parametric Statistical Significance Testing (Comparing overall network metrics for different levels of SE and TOL)"
   ]
  },
  {
   "cell_type": "code",
   "execution_count": 20,
   "metadata": {
    "tags": []
   },
   "outputs": [
    {
     "name": "stdout",
     "output_type": "stream",
     "text": [
      "low \t KruskalResult(statistic=26910.49229117244, pvalue=0.0)\n",
      "\n",
      "med \t KruskalResult(statistic=11114.926804469345, pvalue=0.0)\n",
      "\n",
      "high \t KruskalResult(statistic=5355.349569944927, pvalue=0.0)\n",
      "\n"
     ]
    }
   ],
   "source": [
    "from scipy.stats import kruskal\n",
    "none_se_data = pd.read_csv('results/SE/results_combined_None_SE.csv')\n",
    "attr = 'net_polarization2'\n",
    "for se_lev in ['low', 'med', 'high']:\n",
    "    final_data = pd.read_csv('results/SE/results_combined_' + se_lev + '_SE.csv')\n",
    "    print(se_lev, \"\\t\", kruskal(none_se_data[attr], final_data[attr]))\n",
    "    print()"
   ]
  },
  {
   "cell_type": "code",
   "execution_count": 22,
   "metadata": {
    "tags": []
   },
   "outputs": [
    {
     "name": "stdout",
     "output_type": "stream",
     "text": [
      "low \t            Source  ddof1            H  p-unc\n",
      "Kruskal  SE_level      1  6082.349613    0.0 \t 0.1521233927585415\n",
      "med \t            Source  ddof1             H  p-unc\n",
      "Kruskal  SE_level      1  14615.577135    0.0 \t 0.3655447849078076\n",
      "high \t            Source  ddof1           H         p-unc\n",
      "Kruskal  SE_level      1  316.970396  6.619487e-71 \t 0.007927629134636797\n"
     ]
    }
   ],
   "source": [
    "from pingouin import kruskal\n",
    "none_se_data = pd.read_csv('results/SE/results_combined_None_SE.csv')\n",
    "attr = 'network_homophily'\n",
    "for se_lev in ['low', 'med', 'high']:\n",
    "    final_data = pd.read_csv('results/SE/results_combined_' + se_lev + '_SE.csv')\n",
    "    none_se_data['SE_level'] = ['none'] * none_se_data.shape[0]\n",
    "    final_data['SE_level'] = [se_lev] * final_data.shape[0]\n",
    "    temp_df = pd.concat((none_se_data, final_data), axis = 0)\n",
    "    kwTest = kruskal(temp_df, dv=attr, between='SE_level')\n",
    "    H = kwTest.H[0]\n",
    "    n = temp_df.shape[0]\n",
    "    esq = H * (n + 1)/(n**2 - 1)\n",
    "    print(se_lev, \"\\t\", kwTest, \"\\t\", esq)"
   ]
  },
  {
   "cell_type": "code",
   "execution_count": 23,
   "metadata": {
    "tags": []
   },
   "outputs": [],
   "source": [
    "attrs = ['net_polarization2', 'network_homophily', 'network_polarity', 'user_satisfaction']"
   ]
  },
  {
   "cell_type": "code",
   "execution_count": 24,
   "metadata": {
    "tags": []
   },
   "outputs": [
    {
     "name": "stdout",
     "output_type": "stream",
     "text": [
      "low \t            Source  ddof1            H  p-unc\n",
      "Kruskal  SE_level      1  6082.349613    0.0 \t 0.1521233927585415\n",
      "med \t            Source  ddof1             H  p-unc\n",
      "Kruskal  SE_level      1  14615.577135    0.0 \t 0.3655447849078076\n",
      "high \t            Source  ddof1           H         p-unc\n",
      "Kruskal  SE_level      1  316.970396  6.619487e-71 \t 0.007927629134636797\n"
     ]
    }
   ],
   "source": [
    "from pingouin import kruskal\n",
    "none_se_data = pd.read_csv('results/SE/results_combined_None_SE.csv')\n",
    "attr = attrs[1]\n",
    "for se_lev in ['low', 'med', 'high']:\n",
    "    final_data = pd.read_csv('results/SE/results_combined_' + se_lev + '_SE.csv')\n",
    "    none_se_data['SE_level'] = ['none'] * none_se_data.shape[0]\n",
    "    final_data['SE_level'] = [se_lev] * final_data.shape[0]\n",
    "    temp_df = pd.concat((none_se_data, final_data), axis = 0)\n",
    "    kwTest = kruskal(temp_df, dv=attr, between='SE_level')\n",
    "    H = kwTest.H[0]\n",
    "    n = temp_df.shape[0]\n",
    "    esq = H * (n + 1)/(n**2 - 1)\n",
    "    print(se_lev, \"\\t\", kwTest, \"\\t\", esq)"
   ]
  },
  {
   "cell_type": "code",
   "execution_count": null,
   "metadata": {},
   "outputs": [],
   "source": []
  },
  {
   "cell_type": "code",
   "execution_count": 25,
   "metadata": {
    "tags": []
   },
   "outputs": [
    {
     "name": "stdout",
     "output_type": "stream",
     "text": [
      "('low', 'med') \t             Source  ddof1            H  p-unc\n",
      "Kruskal  TOL_level      1  8033.577283    0.0 \t 0.20092482513682625\n",
      "\n",
      "('med', 'high') \t             Source  ddof1             H  p-unc\n",
      "Kruskal  TOL_level      1  12828.069743    0.0 \t 0.32083809977010114\n",
      "\n",
      "('low', 'high') \t             Source  ddof1            H  p-unc\n",
      "Kruskal  TOL_level      1  2017.381064    0.0 \t 0.0504559703919571\n",
      "\n"
     ]
    }
   ],
   "source": [
    "from pingouin import kruskal\n",
    "attr = attrs[1]\n",
    "for tol_lev in [('low', 'med'), ('med', 'high'), ('low', 'high')]:\n",
    "    tol1 = tol_lev[0]\n",
    "    tol2 = tol_lev[1]\n",
    "    df1 = pd.read_csv('results/SE/results_combined_' + tol1 + '_SE.csv')\n",
    "    df2 = pd.read_csv('results/SE/results_combined_' + tol2 + '_SE.csv')\n",
    "    df1['TOL_level'] = [tol1] * df1.shape[0]\n",
    "    df2['TOL_level'] = [tol2] * df2.shape[0]\n",
    "    temp_df = pd.concat((df1, df2), axis = 0)\n",
    "    kwTest = kruskal(temp_df, dv=attr, between='TOL_level')\n",
    "    H = kwTest.H[0]\n",
    "    n = temp_df.shape[0]\n",
    "    esq = H * (n + 1)/(n**2 - 1)\n",
    "    print((tol1, tol2), \"\\t\", kwTest, \"\\t\", esq)\n",
    "#     print(tol_lev, \"\\t\", kruskal(df1[attr].iloc[0:1000], df2[attr].iloc[0:1000]))\n",
    "    print()"
   ]
  },
  {
   "cell_type": "code",
   "execution_count": 26,
   "metadata": {
    "tags": []
   },
   "outputs": [
    {
     "data": {
      "text/plain": [
       "Index(['Unnamed: 0', 'Unnamed: 0.1', 'topic', 'post_stance', 'author_id',\n",
       "       'num_of_agents_received', 'num_of_agents_not_received',\n",
       "       'num_of_spreader_agents', 'num_of_disinterested_agents',\n",
       "       'network_polarization', 'net_polarization2', 'network_homophily',\n",
       "       'network_homophily2', 'network_polarity', 'satisfaction', 'activity',\n",
       "       'user_preference', 'SE_level'],\n",
       "      dtype='object')"
      ]
     },
     "execution_count": 26,
     "metadata": {},
     "output_type": "execute_result"
    }
   ],
   "source": [
    "none_se_data.columns"
   ]
  },
  {
   "cell_type": "markdown",
   "metadata": {},
   "source": [
    "## Parametric Statistical Significance Testing (Comparing user attributes across different levels of SE)"
   ]
  },
  {
   "cell_type": "code",
   "execution_count": 151,
   "metadata": {},
   "outputs": [],
   "source": [
    "from scipy.stats import ttest_rel, f_oneway"
   ]
  },
  {
   "cell_type": "code",
   "execution_count": 27,
   "metadata": {
    "collapsed": true,
    "jupyter": {
     "outputs_hidden": true
    },
    "tags": []
   },
   "outputs": [
    {
     "ename": "FileNotFoundError",
     "evalue": "[Errno 2] No such file or directory: 'src/data/initial_data_1.csv'",
     "output_type": "error",
     "traceback": [
      "\u001b[0;31m---------------------------------------------------------------------------\u001b[0m",
      "\u001b[0;31mFileNotFoundError\u001b[0m                         Traceback (most recent call last)",
      "\u001b[0;32m/tmp/ipykernel_3030913/461719049.py\u001b[0m in \u001b[0;36m<cell line: 1>\u001b[0;34m()\u001b[0m\n\u001b[0;32m----> 1\u001b[0;31m \u001b[0minitial_data\u001b[0m \u001b[0;34m=\u001b[0m \u001b[0mpd\u001b[0m\u001b[0;34m.\u001b[0m\u001b[0mread_csv\u001b[0m\u001b[0;34m(\u001b[0m\u001b[0;34m'src/data/initial_data_1.csv'\u001b[0m\u001b[0;34m)\u001b[0m\u001b[0;34m\u001b[0m\u001b[0;34m\u001b[0m\u001b[0m\n\u001b[0m\u001b[1;32m      2\u001b[0m \u001b[0mnone_se_data\u001b[0m \u001b[0;34m=\u001b[0m \u001b[0mpd\u001b[0m\u001b[0;34m.\u001b[0m\u001b[0mread_csv\u001b[0m\u001b[0;34m(\u001b[0m\u001b[0;34m'results/final_results/SE_avg/final_data_none.csv'\u001b[0m\u001b[0;34m)\u001b[0m\u001b[0;34m\u001b[0m\u001b[0;34m\u001b[0m\u001b[0m\n\u001b[1;32m      3\u001b[0m \u001b[0mattr\u001b[0m \u001b[0;34m=\u001b[0m \u001b[0;34m'pol_inclination'\u001b[0m\u001b[0;34m\u001b[0m\u001b[0;34m\u001b[0m\u001b[0m\n\u001b[1;32m      4\u001b[0m \u001b[0;32mfor\u001b[0m \u001b[0mse_lev\u001b[0m \u001b[0;32min\u001b[0m \u001b[0;34m[\u001b[0m\u001b[0;34m'low'\u001b[0m\u001b[0;34m,\u001b[0m \u001b[0;34m'med'\u001b[0m\u001b[0;34m,\u001b[0m \u001b[0;34m'high'\u001b[0m\u001b[0;34m]\u001b[0m\u001b[0;34m:\u001b[0m\u001b[0;34m\u001b[0m\u001b[0;34m\u001b[0m\u001b[0m\n\u001b[1;32m      5\u001b[0m     \u001b[0mfinal_data\u001b[0m \u001b[0;34m=\u001b[0m \u001b[0mpd\u001b[0m\u001b[0;34m.\u001b[0m\u001b[0mread_csv\u001b[0m\u001b[0;34m(\u001b[0m\u001b[0;34m'results/final_results/SE_avg/final_data_'\u001b[0m \u001b[0;34m+\u001b[0m \u001b[0mse_lev\u001b[0m \u001b[0;34m+\u001b[0m \u001b[0;34m'.csv'\u001b[0m\u001b[0;34m)\u001b[0m\u001b[0;34m\u001b[0m\u001b[0;34m\u001b[0m\u001b[0m\n",
      "\u001b[0;32m~/venv/py3_10/lib/python3.10/site-packages/pandas/util/_decorators.py\u001b[0m in \u001b[0;36mwrapper\u001b[0;34m(*args, **kwargs)\u001b[0m\n\u001b[1;32m    309\u001b[0m                     \u001b[0mstacklevel\u001b[0m\u001b[0;34m=\u001b[0m\u001b[0mstacklevel\u001b[0m\u001b[0;34m,\u001b[0m\u001b[0;34m\u001b[0m\u001b[0;34m\u001b[0m\u001b[0m\n\u001b[1;32m    310\u001b[0m                 )\n\u001b[0;32m--> 311\u001b[0;31m             \u001b[0;32mreturn\u001b[0m \u001b[0mfunc\u001b[0m\u001b[0;34m(\u001b[0m\u001b[0;34m*\u001b[0m\u001b[0margs\u001b[0m\u001b[0;34m,\u001b[0m \u001b[0;34m**\u001b[0m\u001b[0mkwargs\u001b[0m\u001b[0;34m)\u001b[0m\u001b[0;34m\u001b[0m\u001b[0;34m\u001b[0m\u001b[0m\n\u001b[0m\u001b[1;32m    312\u001b[0m \u001b[0;34m\u001b[0m\u001b[0m\n\u001b[1;32m    313\u001b[0m         \u001b[0;32mreturn\u001b[0m \u001b[0mwrapper\u001b[0m\u001b[0;34m\u001b[0m\u001b[0;34m\u001b[0m\u001b[0m\n",
      "\u001b[0;32m~/venv/py3_10/lib/python3.10/site-packages/pandas/io/parsers/readers.py\u001b[0m in \u001b[0;36mread_csv\u001b[0;34m(filepath_or_buffer, sep, delimiter, header, names, index_col, usecols, squeeze, prefix, mangle_dupe_cols, dtype, engine, converters, true_values, false_values, skipinitialspace, skiprows, skipfooter, nrows, na_values, keep_default_na, na_filter, verbose, skip_blank_lines, parse_dates, infer_datetime_format, keep_date_col, date_parser, dayfirst, cache_dates, iterator, chunksize, compression, thousands, decimal, lineterminator, quotechar, quoting, doublequote, escapechar, comment, encoding, encoding_errors, dialect, error_bad_lines, warn_bad_lines, on_bad_lines, delim_whitespace, low_memory, memory_map, float_precision, storage_options)\u001b[0m\n\u001b[1;32m    584\u001b[0m     \u001b[0mkwds\u001b[0m\u001b[0;34m.\u001b[0m\u001b[0mupdate\u001b[0m\u001b[0;34m(\u001b[0m\u001b[0mkwds_defaults\u001b[0m\u001b[0;34m)\u001b[0m\u001b[0;34m\u001b[0m\u001b[0;34m\u001b[0m\u001b[0m\n\u001b[1;32m    585\u001b[0m \u001b[0;34m\u001b[0m\u001b[0m\n\u001b[0;32m--> 586\u001b[0;31m     \u001b[0;32mreturn\u001b[0m \u001b[0m_read\u001b[0m\u001b[0;34m(\u001b[0m\u001b[0mfilepath_or_buffer\u001b[0m\u001b[0;34m,\u001b[0m \u001b[0mkwds\u001b[0m\u001b[0;34m)\u001b[0m\u001b[0;34m\u001b[0m\u001b[0;34m\u001b[0m\u001b[0m\n\u001b[0m\u001b[1;32m    587\u001b[0m \u001b[0;34m\u001b[0m\u001b[0m\n\u001b[1;32m    588\u001b[0m \u001b[0;34m\u001b[0m\u001b[0m\n",
      "\u001b[0;32m~/venv/py3_10/lib/python3.10/site-packages/pandas/io/parsers/readers.py\u001b[0m in \u001b[0;36m_read\u001b[0;34m(filepath_or_buffer, kwds)\u001b[0m\n\u001b[1;32m    480\u001b[0m \u001b[0;34m\u001b[0m\u001b[0m\n\u001b[1;32m    481\u001b[0m     \u001b[0;31m# Create the parser.\u001b[0m\u001b[0;34m\u001b[0m\u001b[0;34m\u001b[0m\u001b[0m\n\u001b[0;32m--> 482\u001b[0;31m     \u001b[0mparser\u001b[0m \u001b[0;34m=\u001b[0m \u001b[0mTextFileReader\u001b[0m\u001b[0;34m(\u001b[0m\u001b[0mfilepath_or_buffer\u001b[0m\u001b[0;34m,\u001b[0m \u001b[0;34m**\u001b[0m\u001b[0mkwds\u001b[0m\u001b[0;34m)\u001b[0m\u001b[0;34m\u001b[0m\u001b[0;34m\u001b[0m\u001b[0m\n\u001b[0m\u001b[1;32m    483\u001b[0m \u001b[0;34m\u001b[0m\u001b[0m\n\u001b[1;32m    484\u001b[0m     \u001b[0;32mif\u001b[0m \u001b[0mchunksize\u001b[0m \u001b[0;32mor\u001b[0m \u001b[0miterator\u001b[0m\u001b[0;34m:\u001b[0m\u001b[0;34m\u001b[0m\u001b[0;34m\u001b[0m\u001b[0m\n",
      "\u001b[0;32m~/venv/py3_10/lib/python3.10/site-packages/pandas/io/parsers/readers.py\u001b[0m in \u001b[0;36m__init__\u001b[0;34m(self, f, engine, **kwds)\u001b[0m\n\u001b[1;32m    809\u001b[0m             \u001b[0mself\u001b[0m\u001b[0;34m.\u001b[0m\u001b[0moptions\u001b[0m\u001b[0;34m[\u001b[0m\u001b[0;34m\"has_index_names\"\u001b[0m\u001b[0;34m]\u001b[0m \u001b[0;34m=\u001b[0m \u001b[0mkwds\u001b[0m\u001b[0;34m[\u001b[0m\u001b[0;34m\"has_index_names\"\u001b[0m\u001b[0;34m]\u001b[0m\u001b[0;34m\u001b[0m\u001b[0;34m\u001b[0m\u001b[0m\n\u001b[1;32m    810\u001b[0m \u001b[0;34m\u001b[0m\u001b[0m\n\u001b[0;32m--> 811\u001b[0;31m         \u001b[0mself\u001b[0m\u001b[0;34m.\u001b[0m\u001b[0m_engine\u001b[0m \u001b[0;34m=\u001b[0m \u001b[0mself\u001b[0m\u001b[0;34m.\u001b[0m\u001b[0m_make_engine\u001b[0m\u001b[0;34m(\u001b[0m\u001b[0mself\u001b[0m\u001b[0;34m.\u001b[0m\u001b[0mengine\u001b[0m\u001b[0;34m)\u001b[0m\u001b[0;34m\u001b[0m\u001b[0;34m\u001b[0m\u001b[0m\n\u001b[0m\u001b[1;32m    812\u001b[0m \u001b[0;34m\u001b[0m\u001b[0m\n\u001b[1;32m    813\u001b[0m     \u001b[0;32mdef\u001b[0m \u001b[0mclose\u001b[0m\u001b[0;34m(\u001b[0m\u001b[0mself\u001b[0m\u001b[0;34m)\u001b[0m\u001b[0;34m:\u001b[0m\u001b[0;34m\u001b[0m\u001b[0;34m\u001b[0m\u001b[0m\n",
      "\u001b[0;32m~/venv/py3_10/lib/python3.10/site-packages/pandas/io/parsers/readers.py\u001b[0m in \u001b[0;36m_make_engine\u001b[0;34m(self, engine)\u001b[0m\n\u001b[1;32m   1038\u001b[0m             )\n\u001b[1;32m   1039\u001b[0m         \u001b[0;31m# error: Too many arguments for \"ParserBase\"\u001b[0m\u001b[0;34m\u001b[0m\u001b[0;34m\u001b[0m\u001b[0m\n\u001b[0;32m-> 1040\u001b[0;31m         \u001b[0;32mreturn\u001b[0m \u001b[0mmapping\u001b[0m\u001b[0;34m[\u001b[0m\u001b[0mengine\u001b[0m\u001b[0;34m]\u001b[0m\u001b[0;34m(\u001b[0m\u001b[0mself\u001b[0m\u001b[0;34m.\u001b[0m\u001b[0mf\u001b[0m\u001b[0;34m,\u001b[0m \u001b[0;34m**\u001b[0m\u001b[0mself\u001b[0m\u001b[0;34m.\u001b[0m\u001b[0moptions\u001b[0m\u001b[0;34m)\u001b[0m  \u001b[0;31m# type: ignore[call-arg]\u001b[0m\u001b[0;34m\u001b[0m\u001b[0;34m\u001b[0m\u001b[0m\n\u001b[0m\u001b[1;32m   1041\u001b[0m \u001b[0;34m\u001b[0m\u001b[0m\n\u001b[1;32m   1042\u001b[0m     \u001b[0;32mdef\u001b[0m \u001b[0m_failover_to_python\u001b[0m\u001b[0;34m(\u001b[0m\u001b[0mself\u001b[0m\u001b[0;34m)\u001b[0m\u001b[0;34m:\u001b[0m\u001b[0;34m\u001b[0m\u001b[0;34m\u001b[0m\u001b[0m\n",
      "\u001b[0;32m~/venv/py3_10/lib/python3.10/site-packages/pandas/io/parsers/c_parser_wrapper.py\u001b[0m in \u001b[0;36m__init__\u001b[0;34m(self, src, **kwds)\u001b[0m\n\u001b[1;32m     49\u001b[0m \u001b[0;34m\u001b[0m\u001b[0m\n\u001b[1;32m     50\u001b[0m         \u001b[0;31m# open handles\u001b[0m\u001b[0;34m\u001b[0m\u001b[0;34m\u001b[0m\u001b[0m\n\u001b[0;32m---> 51\u001b[0;31m         \u001b[0mself\u001b[0m\u001b[0;34m.\u001b[0m\u001b[0m_open_handles\u001b[0m\u001b[0;34m(\u001b[0m\u001b[0msrc\u001b[0m\u001b[0;34m,\u001b[0m \u001b[0mkwds\u001b[0m\u001b[0;34m)\u001b[0m\u001b[0;34m\u001b[0m\u001b[0;34m\u001b[0m\u001b[0m\n\u001b[0m\u001b[1;32m     52\u001b[0m         \u001b[0;32massert\u001b[0m \u001b[0mself\u001b[0m\u001b[0;34m.\u001b[0m\u001b[0mhandles\u001b[0m \u001b[0;32mis\u001b[0m \u001b[0;32mnot\u001b[0m \u001b[0;32mNone\u001b[0m\u001b[0;34m\u001b[0m\u001b[0;34m\u001b[0m\u001b[0m\n\u001b[1;32m     53\u001b[0m \u001b[0;34m\u001b[0m\u001b[0m\n",
      "\u001b[0;32m~/venv/py3_10/lib/python3.10/site-packages/pandas/io/parsers/base_parser.py\u001b[0m in \u001b[0;36m_open_handles\u001b[0;34m(self, src, kwds)\u001b[0m\n\u001b[1;32m    220\u001b[0m         \u001b[0mLet\u001b[0m \u001b[0mthe\u001b[0m \u001b[0mreaders\u001b[0m \u001b[0mopen\u001b[0m \u001b[0mIOHandles\u001b[0m \u001b[0mafter\u001b[0m \u001b[0mthey\u001b[0m \u001b[0mare\u001b[0m \u001b[0mdone\u001b[0m \u001b[0;32mwith\u001b[0m \u001b[0mtheir\u001b[0m \u001b[0mpotential\u001b[0m \u001b[0mraises\u001b[0m\u001b[0;34m.\u001b[0m\u001b[0;34m\u001b[0m\u001b[0;34m\u001b[0m\u001b[0m\n\u001b[1;32m    221\u001b[0m         \"\"\"\n\u001b[0;32m--> 222\u001b[0;31m         self.handles = get_handle(\n\u001b[0m\u001b[1;32m    223\u001b[0m             \u001b[0msrc\u001b[0m\u001b[0;34m,\u001b[0m\u001b[0;34m\u001b[0m\u001b[0;34m\u001b[0m\u001b[0m\n\u001b[1;32m    224\u001b[0m             \u001b[0;34m\"r\"\u001b[0m\u001b[0;34m,\u001b[0m\u001b[0;34m\u001b[0m\u001b[0;34m\u001b[0m\u001b[0m\n",
      "\u001b[0;32m~/venv/py3_10/lib/python3.10/site-packages/pandas/io/common.py\u001b[0m in \u001b[0;36mget_handle\u001b[0;34m(path_or_buf, mode, encoding, compression, memory_map, is_text, errors, storage_options)\u001b[0m\n\u001b[1;32m    700\u001b[0m         \u001b[0;32mif\u001b[0m \u001b[0mioargs\u001b[0m\u001b[0;34m.\u001b[0m\u001b[0mencoding\u001b[0m \u001b[0;32mand\u001b[0m \u001b[0;34m\"b\"\u001b[0m \u001b[0;32mnot\u001b[0m \u001b[0;32min\u001b[0m \u001b[0mioargs\u001b[0m\u001b[0;34m.\u001b[0m\u001b[0mmode\u001b[0m\u001b[0;34m:\u001b[0m\u001b[0;34m\u001b[0m\u001b[0;34m\u001b[0m\u001b[0m\n\u001b[1;32m    701\u001b[0m             \u001b[0;31m# Encoding\u001b[0m\u001b[0;34m\u001b[0m\u001b[0;34m\u001b[0m\u001b[0m\n\u001b[0;32m--> 702\u001b[0;31m             handle = open(\n\u001b[0m\u001b[1;32m    703\u001b[0m                 \u001b[0mhandle\u001b[0m\u001b[0;34m,\u001b[0m\u001b[0;34m\u001b[0m\u001b[0;34m\u001b[0m\u001b[0m\n\u001b[1;32m    704\u001b[0m                 \u001b[0mioargs\u001b[0m\u001b[0;34m.\u001b[0m\u001b[0mmode\u001b[0m\u001b[0;34m,\u001b[0m\u001b[0;34m\u001b[0m\u001b[0;34m\u001b[0m\u001b[0m\n",
      "\u001b[0;31mFileNotFoundError\u001b[0m: [Errno 2] No such file or directory: 'src/data/initial_data_1.csv'"
     ]
    }
   ],
   "source": [
    "initial_data = pd.read_csv('src/data/initial_data_1.csv')\n",
    "none_se_data = pd.read_csv('results/final_results/SE_avg/final_data_none.csv')\n",
    "attr = 'pol_inclination'\n",
    "for se_lev in ['low', 'med', 'high']:\n",
    "    final_data = pd.read_csv('results/final_results/SE_avg/final_data_' + se_lev + '.csv')\n",
    "    print(se_lev, \"\\t\", ttest_rel(none_se_data[attr], final_data[attr]))\n",
    "    print(se_lev, \"\\t\", f_oneway(none_se_data[attr], final_data[attr]))\n",
    "    none_se_data['SE_level'] = ['none'] * none_se_data.shape[0]\n",
    "    final_data['SE_level'] = [se_lev] * final_data.shape[0]\n",
    "    temp_df = pd.concat((none_se_data, final_data), axis = 0)\n",
    "    print(galss_delta(temp_df, attr, 'SE_level'))\n",
    "    print(cohens_d(temp_df, attr, 'SE_level'))\n",
    "    print()"
   ]
  },
  {
   "cell_type": "code",
   "execution_count": 241,
   "metadata": {},
   "outputs": [
    {
     "name": "stdout",
     "output_type": "stream",
     "text": [
      "('low', 'med') \t Ttest_relResult(statistic=1.3458769974450495, pvalue=0.17841774531539958)\n",
      "('low', 'med') \t F_onewayResult(statistic=1.076195442338444, pvalue=0.2995812824927048)\n",
      "0.022459804982167243\n",
      "0.02308466866509659\n",
      "\n",
      "('med', 'high') \t Ttest_relResult(statistic=0.7228518384522137, pvalue=0.46981277930647525)\n",
      "('med', 'high') \t F_onewayResult(statistic=0.2614795180483579, pvalue=0.6091195029813835)\n",
      "0.0116176558996652\n",
      "0.011378811660922035\n",
      "\n",
      "('low', 'high') \t Ttest_relResult(statistic=2.058895338652016, pvalue=0.03956826421359188)\n",
      "('low', 'high') \t F_onewayResult(statistic=2.412527050961528, pvalue=0.12040710290046534)\n",
      "0.03637002963351754\n",
      "0.034563217721917304\n",
      "\n"
     ]
    }
   ],
   "source": [
    "initial_data = pd.read_csv('src/data/initial_data_1.csv')\n",
    "attr = 'pol_inclination'\n",
    "for tol_lev in [('low', 'med'), ('med', 'high'), ('low', 'high')]:\n",
    "    tol1 = tol_lev[0]\n",
    "    tol2 = tol_lev[1]\n",
    "    df1 = pd.read_csv('results/final_results/TOL_avg/final_data_' + tol1 + '.csv')\n",
    "    df2 = pd.read_csv('results/final_results/TOL_avg/final_data_' + tol2 + '.csv')\n",
    "    \n",
    "    print(tol_lev, \"\\t\", ttest_rel(df1[attr], df2[attr]))\n",
    "    print(tol_lev, \"\\t\", f_oneway(df1[attr], df2[attr]))\n",
    "    df1['TOL_level'] = [tol1] * df1.shape[0]\n",
    "    df2['TOL_level'] = [tol2] * df2.shape[0]\n",
    "    temp_df = pd.concat((df1, df2), axis = 0)\n",
    "    print(galss_delta(temp_df, attr, 'TOL_level'))\n",
    "    print(cohens_d(temp_df, attr, 'TOL_level'))\n",
    "    print()"
   ]
  },
  {
   "cell_type": "code",
   "execution_count": 79,
   "metadata": {},
   "outputs": [
    {
     "data": {
      "text/plain": [
       "none    1000\n",
       "high    1000\n",
       "Name: SE_level, dtype: int64"
      ]
     },
     "execution_count": 79,
     "metadata": {},
     "output_type": "execute_result"
    }
   ],
   "source": [
    "temp_df['SE_level'].value_counts()"
   ]
  },
  {
   "cell_type": "code",
   "execution_count": null,
   "metadata": {},
   "outputs": [],
   "source": []
  },
  {
   "cell_type": "markdown",
   "metadata": {},
   "source": [
    "# Effect Size"
   ]
  },
  {
   "cell_type": "code",
   "execution_count": 31,
   "metadata": {
    "tags": []
   },
   "outputs": [],
   "source": [
    "var1 = 'low'\n",
    "var2 = 'high'\n",
    "attr = 'net_polarization2'\n",
    "\n",
    "df1 = pd.read_csv('results/SE/results_combined_' + var1 + '_SE.csv')\n",
    "df2 = pd.read_csv('results/SE/results_combined_' + var2 + '_SE.csv')\n",
    "df1['EXP'] = [var1] * df1.shape[0]\n",
    "df2['EXP'] = [var2] * df2.shape[0]\n",
    "temp_df = pd.concat((df1, df2), axis = 0)"
   ]
  },
  {
   "cell_type": "code",
   "execution_count": null,
   "metadata": {
    "tags": []
   },
   "outputs": [],
   "source": []
  },
  {
   "cell_type": "markdown",
   "metadata": {},
   "source": [
    "### Cohen's d"
   ]
  },
  {
   "cell_type": "code",
   "execution_count": 32,
   "metadata": {
    "tags": []
   },
   "outputs": [
    {
     "data": {
      "text/plain": [
       "4.019367546336394"
      ]
     },
     "execution_count": 32,
     "metadata": {},
     "output_type": "execute_result"
    }
   ],
   "source": [
    "import numpy as np\n",
    "\n",
    "def cohens_d(df, attr, control_var):\n",
    "\n",
    "    # Variances\n",
    "    variances = df.groupby(control_var).var(ddof=1)\n",
    "    # Mean variance\n",
    "    mean_var = variances.mean()[attr]\n",
    "    # Pooled standard deviation\n",
    "    s_pooled = np.sqrt(mean_var)\n",
    "    # Difference of the means\n",
    "    diff_mean = abs(df.groupby(control_var).mean().diff()[attr][-1])\n",
    "    # Cohen's d\n",
    "    cohens_d = diff_mean / s_pooled\n",
    "    \n",
    "    return cohens_d\n",
    "\n",
    "cohens_d(temp_df, 'net_polarization2', 'EXP')"
   ]
  },
  {
   "cell_type": "code",
   "execution_count": null,
   "metadata": {},
   "outputs": [],
   "source": [
    "# import numpy as np\n",
    "# import pingouin as pg\n",
    "# x = temp_df[temp_df['EXP'] == var1][attr]\n",
    "# y = temp_df[temp_df['EXP'] == var2][attr]\n",
    "# pg.compute_effsize(x, y, paired=False, eftype='cohen')"
   ]
  },
  {
   "cell_type": "markdown",
   "metadata": {},
   "source": [
    "### Glass's delta"
   ]
  },
  {
   "cell_type": "code",
   "execution_count": 179,
   "metadata": {},
   "outputs": [],
   "source": [
    "# Variances\n",
    "def galss_delta(df, attr, control_var):\n",
    "    \n",
    "    variances = df.groupby(control_var).var(ddof=1)\n",
    "    # Difference of the means\n",
    "    diff_mean = abs(df.groupby(control_var).mean().diff()[attr][-1])\n",
    "    # Glass's delta\n",
    "    glasss_delta = diff_mean / np.sqrt(variances[attr].to_list()[0])\n",
    "\n",
    "    return glasss_delta\n",
    "\n",
    "# galss_delta(temp_df, 'net_polarization2', 'EXP')"
   ]
  },
  {
   "cell_type": "markdown",
   "metadata": {},
   "source": [
    "### Epsilon Square (For Kruskal-Wallis test)"
   ]
  },
  {
   "cell_type": "code",
   "execution_count": 110,
   "metadata": {},
   "outputs": [
    {
     "name": "stdout",
     "output_type": "stream",
     "text": [
      "0.2524845375865879\n"
     ]
    }
   ],
   "source": [
    "from pingouin import kruskal\n",
    "def epsilon_square(df, attr, control_var):\n",
    "\n",
    "    kwTest = kruskal(df, dv=attr, between=control_var)\n",
    "    H = kwTest.H[0]\n",
    "    n = df.shape[0]\n",
    "    esq = H * (n + 1)/(n**2 - 1)\n",
    "    print(esq)\n",
    "    \n",
    "epsilon_square(temp_df, 'net_polarization2', 'EXP')"
   ]
  },
  {
   "cell_type": "code",
   "execution_count": null,
   "metadata": {},
   "outputs": [],
   "source": []
  },
  {
   "cell_type": "code",
   "execution_count": 207,
   "metadata": {},
   "outputs": [
    {
     "data": {
      "text/plain": [
       "(Index(['Unnamed: 0', 'Unnamed: 0.1', 'id', 'user_activity', 'pol_interest',\n",
       "        'privacy_preference', 'user_satisfaction', 'issue_0', 'issue_1',\n",
       "        'issue_2', 'issue_3', 'issue_4', 'issue_5', 'pol_inclination',\n",
       "        'SE_level'],\n",
       "       dtype='object'),\n",
       " Index(['Unnamed: 0', 'Unnamed: 0.1', 'id', 'user_activity', 'pol_interest',\n",
       "        'privacy_preference', 'user_satisfaction', 'issue_0', 'issue_1',\n",
       "        'issue_2', 'issue_3', 'issue_4', 'issue_5', 'pol_inclination',\n",
       "        'SE_level'],\n",
       "       dtype='object'))"
      ]
     },
     "execution_count": 207,
     "metadata": {},
     "output_type": "execute_result"
    }
   ],
   "source": [
    "none_se_data.columns, med_tol_data.columns"
   ]
  },
  {
   "cell_type": "code",
   "execution_count": 208,
   "metadata": {},
   "outputs": [
    {
     "name": "stdout",
     "output_type": "stream",
     "text": [
      "high \t            Source  ddof1         H     p-unc\n",
      "Kruskal  SE_level      1  2.396003  0.121646 \t 0.0002966451962983735\n"
     ]
    }
   ],
   "source": [
    "from pingouin import kruskal\n",
    "none_se_data = pd.read_csv('results/final_results/SE_avg/final_data_none.csv')\n",
    "med_tol_data = pd.read_csv('results/final_results/TOL_avg/final_data_med.csv')\n",
    "attr = 'pol_inclination'\n",
    "\n",
    "none_se_data['SE_level'] = ['none'] * none_se_data.shape[0]\n",
    "med_tol_data['SE_level'] = ['med'] * med_tol_data.shape[0]\n",
    "temp_df = pd.concat((none_se_data, med_tol_data), axis = 0)\n",
    "kwTest = kruskal(temp_df, dv=attr, between='SE_level')\n",
    "H = kwTest.H[0]\n",
    "n = temp_df.shape[0]\n",
    "esq = H * (n + 1)/(n**2 - 1)\n",
    "print(se_lev, \"\\t\", kwTest, \"\\t\", esq)"
   ]
  },
  {
   "cell_type": "code",
   "execution_count": null,
   "metadata": {},
   "outputs": [],
   "source": []
  }
 ],
 "metadata": {
  "kernelspec": {
   "display_name": "py3_10",
   "language": "python",
   "name": "py3_10"
  },
  "language_info": {
   "codemirror_mode": {
    "name": "ipython",
    "version": 3
   },
   "file_extension": ".py",
   "mimetype": "text/x-python",
   "name": "python",
   "nbconvert_exporter": "python",
   "pygments_lexer": "ipython3",
   "version": "3.10.12"
  }
 },
 "nbformat": 4,
 "nbformat_minor": 4
}
