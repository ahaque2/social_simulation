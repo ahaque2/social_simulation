{
 "cells": [
  {
   "cell_type": "code",
   "execution_count": 1,
   "id": "589b661f-5832-4dab-a593-f424a8d2e58f",
   "metadata": {
    "tags": []
   },
   "outputs": [],
   "source": [
    "import pandas as pd\n",
    "import numpy as np\n",
    "import sys\n",
    "\n",
    "import pylab as plt\n",
    "import seaborn as sns\n",
    "\n",
    "import matplotlib.pyplot as plt\n",
    "import matplotlib.colors as mcolors\n",
    "import pandas as pd"
   ]
  },
  {
   "cell_type": "code",
   "execution_count": 175,
   "id": "80ab7e2d-9230-463b-b8ba-8383ef6c6d8b",
   "metadata": {
    "tags": []
   },
   "outputs": [],
   "source": [
    "i = 1\n",
    "\n",
    "def get_res_data(i):\n",
    "    \n",
    "    df_res_none = pd.read_csv(f'results/SE_results/results_{i}0.csv')\n",
    "    df_res_low = pd.read_csv(f'results/SE_results/results_{i}3.csv')\n",
    "    df_res_mid = pd.read_csv(f'results/SE_results/results_{i}2.csv')\n",
    "    df_res_high = pd.read_csv(f'results/SE_results/results_{i}1.csv')\n",
    "    \n",
    "    return df_res_none, df_res_low, df_res_mid, df_res_high\n",
    "    \n",
    "def get_final_agent_data(i):\n",
    "\n",
    "    df_fdata_none = pd.read_csv(f'results/SE_results/final_data_{i}0.csv').iloc[0:100]\n",
    "    df_fdata_low = pd.read_csv(f'results/SE_results/final_data_{i}3.csv').iloc[0:100]\n",
    "    df_fdata_mid = pd.read_csv(f'results/SE_results/final_data_{i}2.csv').iloc[0:100]\n",
    "    df_fdata_high = pd.read_csv(f'results/SE_results/final_data_{i}1.csv').iloc[0:100]\n",
    "    \n",
    "    return df_fdata_none, df_fdata_low, df_fdata_mid, df_fdata_high\n",
    "\n",
    "def get_initial_data(i):\n",
    "    \n",
    "    initial_df_comb = pd.read_csv(f'initial_data/initial_data_{i}.csv').iloc[0:100]\n",
    "    \n",
    "    return initial_df_comb"
   ]
  },
  {
   "cell_type": "code",
   "execution_count": 19,
   "id": "7032aabe-16f1-4d0d-98e8-23daaf6d2d15",
   "metadata": {
    "tags": []
   },
   "outputs": [],
   "source": [
    "agent_states_cols = ['num_of_agents_received', 'num_of_agents_not_received', 'num_of_spreader_agents', 'num_of_disinterested_agents']"
   ]
  },
  {
   "cell_type": "code",
   "execution_count": 20,
   "id": "155c2b51-56da-49e0-ae71-033eb85bb53e",
   "metadata": {
    "tags": []
   },
   "outputs": [],
   "source": [
    "df_res_none, df_res_low, df_res_mid, df_res_high = get_res_data(i)"
   ]
  },
  {
   "cell_type": "code",
   "execution_count": 21,
   "id": "1fd06cba-c2b5-4701-8132-d54a1cc1d7b1",
   "metadata": {
    "tags": []
   },
   "outputs": [],
   "source": [
    "df_fdata_none, df_fdata_low, df_fdata_mid, df_fdata_high = get_final_agent_data(i)"
   ]
  },
  {
   "cell_type": "code",
   "execution_count": 41,
   "id": "5118854d-0a10-4c96-802d-7b66c1f44912",
   "metadata": {
    "tags": []
   },
   "outputs": [],
   "source": [
    "def get_state_dist(attr):\n",
    "    res = []\n",
    "\n",
    "    for i in range(1,9):\n",
    "\n",
    "        df_res_none, df_res_low, df_res_mid, df_res_high = get_res_data(i)\n",
    "        res.append([df_res_none[attr].mean(), df_res_low[attr].mean(), df_res_mid[attr].mean(), df_res_high[attr].mean()])\n",
    "\n",
    "    res = np.array(res)\n",
    "    return list(res.mean(axis = 0))"
   ]
  },
  {
   "cell_type": "code",
   "execution_count": 43,
   "id": "415354a9-6e38-4810-aedf-b5ed2408fedf",
   "metadata": {
    "tags": []
   },
   "outputs": [],
   "source": [
    "recieved_agents = get_state_dist('num_of_agents_received')\n",
    "not_received_agents = get_state_dist('num_of_agents_not_received')\n",
    "spreader_agents = get_state_dist('num_of_spreader_agents')\n",
    "disinterested_agents = get_state_dist('num_of_disinterested_agents')"
   ]
  },
  {
   "cell_type": "code",
   "execution_count": 209,
   "id": "dd0c6b60-5ce0-4120-8ee2-debad84856b5",
   "metadata": {
    "tags": []
   },
   "outputs": [],
   "source": [
    "index_names = ['received', 'notReceived', 'spreader', 'disinterested']\n",
    "df_agent_states = pd.DataFrame([recieved_agents, not_received_agents, spreader_agents, disinterested_agents], columns = ['None', 'Low', 'Mid', 'High'])"
   ]
  },
  {
   "cell_type": "code",
   "execution_count": 210,
   "id": "9e373a39-d973-4beb-a386-dbe328afd216",
   "metadata": {
    "tags": []
   },
   "outputs": [],
   "source": [
    "df_agent_states.index = index_names"
   ]
  },
  {
   "cell_type": "code",
   "execution_count": 211,
   "id": "cf200805-536d-4829-bb55-51e6d8f1dbf0",
   "metadata": {
    "tags": []
   },
   "outputs": [
    {
     "data": {
      "text/html": [
       "<div>\n",
       "<style scoped>\n",
       "    .dataframe tbody tr th:only-of-type {\n",
       "        vertical-align: middle;\n",
       "    }\n",
       "\n",
       "    .dataframe tbody tr th {\n",
       "        vertical-align: top;\n",
       "    }\n",
       "\n",
       "    .dataframe thead th {\n",
       "        text-align: right;\n",
       "    }\n",
       "</style>\n",
       "<table border=\"1\" class=\"dataframe\">\n",
       "  <thead>\n",
       "    <tr style=\"text-align: right;\">\n",
       "      <th></th>\n",
       "      <th>received</th>\n",
       "      <th>notReceived</th>\n",
       "      <th>spreader</th>\n",
       "      <th>disinterested</th>\n",
       "    </tr>\n",
       "  </thead>\n",
       "  <tbody>\n",
       "    <tr>\n",
       "      <th>None</th>\n",
       "      <td>90.127</td>\n",
       "      <td>9.873</td>\n",
       "      <td>11.257</td>\n",
       "      <td>66.948</td>\n",
       "    </tr>\n",
       "    <tr>\n",
       "      <th>Low</th>\n",
       "      <td>86.463</td>\n",
       "      <td>13.537</td>\n",
       "      <td>11.596</td>\n",
       "      <td>64.264</td>\n",
       "    </tr>\n",
       "    <tr>\n",
       "      <th>Mid</th>\n",
       "      <td>65.823</td>\n",
       "      <td>34.177</td>\n",
       "      <td>5.531</td>\n",
       "      <td>48.416</td>\n",
       "    </tr>\n",
       "    <tr>\n",
       "      <th>High</th>\n",
       "      <td>11.141</td>\n",
       "      <td>88.859</td>\n",
       "      <td>0.774</td>\n",
       "      <td>7.421</td>\n",
       "    </tr>\n",
       "  </tbody>\n",
       "</table>\n",
       "</div>"
      ],
      "text/plain": [
       "     received notReceived spreader disinterested\n",
       "None   90.127       9.873   11.257        66.948\n",
       "Low    86.463      13.537   11.596        64.264\n",
       "Mid    65.823      34.177    5.531        48.416\n",
       "High   11.141      88.859    0.774         7.421"
      ]
     },
     "execution_count": 211,
     "metadata": {},
     "output_type": "execute_result"
    }
   ],
   "source": [
    "df_agent_states = df_agent_states.T\n",
    "df_agent_states = df_agent_states.applymap(lambda x: f\"{x:.3f}\" if isinstance(x, float) else x)\n",
    "df_agent_states"
   ]
  },
  {
   "cell_type": "code",
   "execution_count": 212,
   "id": "2c5e9cc5-5618-4c57-ba6c-bec9dae87132",
   "metadata": {
    "tags": []
   },
   "outputs": [],
   "source": [
    "df_agent_states.to_csv('results/table/agent_state_dist.csv')"
   ]
  },
  {
   "cell_type": "code",
   "execution_count": 213,
   "id": "2a5913b6-e250-423f-9450-52ca3965335a",
   "metadata": {
    "tags": []
   },
   "outputs": [],
   "source": [
    "def get_active_users_metrics(i, thres_h, thres_l):\n",
    "\n",
    "    df_fdata_none, df_fdata_low, df_fdata_mid, df_fdata_high = get_final_agent_data(i)\n",
    "    df_fdata_initial = get_initial_data(i)\n",
    "    \n",
    "    act_users = [df_fdata_initial[df_fdata_initial['activity'] > thres_h].shape[0], \n",
    "                df_fdata_none[df_fdata_none['activity'] > thres_h].shape[0], \n",
    "                 df_fdata_low[df_fdata_low['activity'] > thres_h].shape[0], \n",
    "                 df_fdata_mid[df_fdata_mid['activity'] > thres_h].shape[0],\n",
    "                 df_fdata_high[df_fdata_high['activity'] > thres_h].shape[0]]\n",
    "    \n",
    "    mid_act_users = [df_fdata_initial[((df_fdata_initial['activity'] >= thres_l) & (df_fdata_initial['activity'] <= thres_h))].shape[0],\n",
    "                 df_fdata_none[((df_fdata_none['activity'] >= thres_l) & (df_fdata_none['activity'] <= thres_h))].shape[0], \n",
    "                 df_fdata_low[((df_fdata_low['activity'] >= thres_l) & (df_fdata_low['activity'] <= thres_h))].shape[0], \n",
    "                 df_fdata_mid[((df_fdata_mid['activity'] >= thres_l) & (df_fdata_mid['activity'] <= thres_h))].shape[0],\n",
    "                 df_fdata_high[((df_fdata_high['activity'] >= thres_l) & (df_fdata_high['activity'] <= thres_h))].shape[0]]\n",
    "            \n",
    "    non_act_users = [df_fdata_initial[df_fdata_initial['activity'] < thres_l].shape[0],\n",
    "                 df_fdata_none[df_fdata_none['activity'] < thres_l].shape[0], \n",
    "                 df_fdata_low[df_fdata_low['activity'] < thres_l].shape[0], \n",
    "                 df_fdata_mid[df_fdata_mid['activity'] < thres_l].shape[0],\n",
    "                 df_fdata_high[df_fdata_high['activity'] < thres_l].shape[0]]\n",
    "    \n",
    "    return act_users, mid_act_users, non_act_users"
   ]
  },
  {
   "cell_type": "code",
   "execution_count": 214,
   "id": "6d716592-18ae-4407-8f70-39eeed899bad",
   "metadata": {
    "tags": []
   },
   "outputs": [
    {
     "data": {
      "text/html": [
       "<div>\n",
       "<style scoped>\n",
       "    .dataframe tbody tr th:only-of-type {\n",
       "        vertical-align: middle;\n",
       "    }\n",
       "\n",
       "    .dataframe tbody tr th {\n",
       "        vertical-align: top;\n",
       "    }\n",
       "\n",
       "    .dataframe thead th {\n",
       "        text-align: right;\n",
       "    }\n",
       "</style>\n",
       "<table border=\"1\" class=\"dataframe\">\n",
       "  <thead>\n",
       "    <tr style=\"text-align: right;\">\n",
       "      <th></th>\n",
       "      <th>initial</th>\n",
       "      <th>none</th>\n",
       "      <th>low</th>\n",
       "      <th>mid</th>\n",
       "      <th>high</th>\n",
       "    </tr>\n",
       "  </thead>\n",
       "  <tbody>\n",
       "    <tr>\n",
       "      <th>active</th>\n",
       "      <td>2.125</td>\n",
       "      <td>31.125</td>\n",
       "      <td>63.000</td>\n",
       "      <td>50.25</td>\n",
       "      <td>47.875</td>\n",
       "    </tr>\n",
       "    <tr>\n",
       "      <th>med</th>\n",
       "      <td>52.875</td>\n",
       "      <td>32.875</td>\n",
       "      <td>6.375</td>\n",
       "      <td>18.75</td>\n",
       "      <td>25.000</td>\n",
       "    </tr>\n",
       "    <tr>\n",
       "      <th>nonActive</th>\n",
       "      <td>45.000</td>\n",
       "      <td>36.000</td>\n",
       "      <td>30.625</td>\n",
       "      <td>31.00</td>\n",
       "      <td>27.125</td>\n",
       "    </tr>\n",
       "  </tbody>\n",
       "</table>\n",
       "</div>"
      ],
      "text/plain": [
       "           initial    none     low    mid    high\n",
       "active       2.125  31.125  63.000  50.25  47.875\n",
       "med         52.875  32.875   6.375  18.75  25.000\n",
       "nonActive   45.000  36.000  30.625  31.00  27.125"
      ]
     },
     "execution_count": 214,
     "metadata": {},
     "output_type": "execute_result"
    }
   ],
   "source": [
    "res = []\n",
    "\n",
    "for i in range(1,9):\n",
    "\n",
    "    act_users, mid_act_users, non_act_users = get_active_users_metrics(i, 0.8, 0.2)\n",
    "    res.append([act_users, mid_act_users, non_act_users])\n",
    "    \n",
    "res = np.array(res)\n",
    "df_active_users = pd.DataFrame(res.mean(axis = 0), columns = ['initial', 'none', 'low', 'mid', 'high'])\n",
    "df_active_users.index = ['active', 'med', 'nonActive']\n",
    "df_active_users"
   ]
  },
  {
   "cell_type": "code",
   "execution_count": null,
   "id": "a6c57dd1-ed72-45e2-baca-2f0a2932f08a",
   "metadata": {},
   "outputs": [],
   "source": []
  },
  {
   "cell_type": "code",
   "execution_count": 215,
   "id": "c455e498-206f-4092-91cc-3a78a048b964",
   "metadata": {
    "tags": []
   },
   "outputs": [
    {
     "data": {
      "text/plain": [
       "([1, 60, 72, 75, 40], [56, 1, 2, 3, 30], [43, 39, 26, 22, 30])"
      ]
     },
     "execution_count": 215,
     "metadata": {},
     "output_type": "execute_result"
    }
   ],
   "source": [
    "act_users, mid_act_users, non_act_users"
   ]
  },
  {
   "cell_type": "code",
   "execution_count": 216,
   "id": "39d12889-df1b-4f24-a826-09609b79fce4",
   "metadata": {
    "tags": []
   },
   "outputs": [
    {
     "data": {
      "text/plain": [
       "Index(['Unnamed: 0', 'Unnamed: 0.1', 'topic_1', 'topic_2', 'topic_3',\n",
       "       'topic_4', 'topic_5', 'topic_6', 'privacy', 'activity', 'satisfaction',\n",
       "       'lat_acc', 'lat_rej', 'id', 'pol_inclination'],\n",
       "      dtype='object')"
      ]
     },
     "execution_count": 216,
     "metadata": {},
     "output_type": "execute_result"
    }
   ],
   "source": [
    "df_fdata_none.columns"
   ]
  },
  {
   "cell_type": "code",
   "execution_count": 217,
   "id": "1aad2ffa-abf9-486a-9042-f3f255037524",
   "metadata": {
    "tags": []
   },
   "outputs": [],
   "source": [
    "def get_polarized_users_metrics(i, thres):\n",
    "\n",
    "    df_fdata_none, df_fdata_low, df_fdata_mid, df_fdata_high = get_final_agent_data(i)\n",
    "    df_fdata_initial = get_initial_data(i)\n",
    "    \n",
    "    unpol_users = [df_fdata_initial[((df_fdata_initial['pol_inclination'] >= - thres) & (df_fdata_initial['pol_inclination'] <= thres))].shape[0],\n",
    "                 df_fdata_none[((df_fdata_none['pol_inclination'] >= - thres) & (df_fdata_none['pol_inclination'] <= thres))].shape[0], \n",
    "                 df_fdata_low[((df_fdata_low['pol_inclination'] >= - thres) & (df_fdata_low['pol_inclination'] <= thres))].shape[0], \n",
    "                 df_fdata_mid[((df_fdata_mid['pol_inclination'] >= - thres) & (df_fdata_mid['pol_inclination'] <= thres))].shape[0],\n",
    "                 df_fdata_high[((df_fdata_high['pol_inclination'] >= - thres) & (df_fdata_high['pol_inclination'] <= thres))].shape[0]]\n",
    "            \n",
    "    pol_users = [df_fdata_initial[((df_fdata_initial['pol_inclination'] < - thres) | (df_fdata_initial['pol_inclination'] > thres))].shape[0], \n",
    "                 df_fdata_none[((df_fdata_none['pol_inclination'] < - thres) | (df_fdata_none['pol_inclination'] > thres))].shape[0], \n",
    "                 df_fdata_low[((df_fdata_low['pol_inclination'] < - thres) | (df_fdata_low['pol_inclination'] > thres))].shape[0], \n",
    "                 df_fdata_mid[((df_fdata_mid['pol_inclination'] < - thres) | (df_fdata_mid['pol_inclination'] > thres))].shape[0],\n",
    "                 df_fdata_high[((df_fdata_high['pol_inclination'] < - thres) | (df_fdata_high['pol_inclination'] > thres))].shape[0]]\n",
    "    \n",
    "    return unpol_users, pol_users"
   ]
  },
  {
   "cell_type": "code",
   "execution_count": 218,
   "id": "472e4f11-e33a-4240-ae34-d38401eed4b6",
   "metadata": {
    "tags": []
   },
   "outputs": [
    {
     "data": {
      "text/html": [
       "<div>\n",
       "<style scoped>\n",
       "    .dataframe tbody tr th:only-of-type {\n",
       "        vertical-align: middle;\n",
       "    }\n",
       "\n",
       "    .dataframe tbody tr th {\n",
       "        vertical-align: top;\n",
       "    }\n",
       "\n",
       "    .dataframe thead th {\n",
       "        text-align: right;\n",
       "    }\n",
       "</style>\n",
       "<table border=\"1\" class=\"dataframe\">\n",
       "  <thead>\n",
       "    <tr style=\"text-align: right;\">\n",
       "      <th></th>\n",
       "      <th>initial</th>\n",
       "      <th>none</th>\n",
       "      <th>low</th>\n",
       "      <th>mid</th>\n",
       "      <th>high</th>\n",
       "    </tr>\n",
       "  </thead>\n",
       "  <tbody>\n",
       "    <tr>\n",
       "      <th>pol</th>\n",
       "      <td>83.0</td>\n",
       "      <td>80.0</td>\n",
       "      <td>91.0</td>\n",
       "      <td>90.0</td>\n",
       "      <td>78.0</td>\n",
       "    </tr>\n",
       "    <tr>\n",
       "      <th>unPol</th>\n",
       "      <td>17.0</td>\n",
       "      <td>20.0</td>\n",
       "      <td>9.0</td>\n",
       "      <td>10.0</td>\n",
       "      <td>22.0</td>\n",
       "    </tr>\n",
       "  </tbody>\n",
       "</table>\n",
       "</div>"
      ],
      "text/plain": [
       "       initial  none   low   mid  high\n",
       "pol       83.0  80.0  91.0  90.0  78.0\n",
       "unPol     17.0  20.0   9.0  10.0  22.0"
      ]
     },
     "execution_count": 218,
     "metadata": {},
     "output_type": "execute_result"
    }
   ],
   "source": [
    "res = []\n",
    "\n",
    "for i in range(1,9):\n",
    "\n",
    "    unpol_users, pol_users = get_polarized_users_metrics(1, 0.5)\n",
    "    res.append([unpol_users, pol_users])\n",
    "    \n",
    "res = np.array(res)\n",
    "df_pol_users = pd.DataFrame(res.mean(axis = 0), columns = ['initial', 'none', 'low', 'mid', 'high'])\n",
    "df_pol_users.index = ['pol', 'unPol']\n",
    "df_pol_users"
   ]
  },
  {
   "cell_type": "code",
   "execution_count": 219,
   "id": "470f46f9-9eb3-494f-a318-7bd6d32d532d",
   "metadata": {
    "tags": []
   },
   "outputs": [],
   "source": [
    "def get_sat_users_metrics(i):\n",
    "\n",
    "    df_fdata_none, df_fdata_low, df_fdata_mid, df_fdata_high = get_final_agent_data(i)\n",
    "    df_fdata_initial = get_initial_data(i)\n",
    "    \n",
    "    pos_sat_users = [df_fdata_initial[df_fdata_initial['satisfaction'] > 0].shape[0],\n",
    "                    df_fdata_none[df_fdata_none['satisfaction'] > 0].shape[0],  df_fdata_low[df_fdata_low['satisfaction'] > 0].shape[0], \n",
    "                      df_fdata_mid[df_fdata_mid['satisfaction'] > 0].shape[0],  df_fdata_high[df_fdata_high['satisfaction'] > 0].shape[0]] \n",
    "    \n",
    "    neg_sat_users = [df_fdata_initial[df_fdata_initial['satisfaction'] < 0].shape[0],\n",
    "                    df_fdata_none[df_fdata_none['satisfaction'] < 0].shape[0],  df_fdata_low[df_fdata_low['satisfaction'] < 0].shape[0], \n",
    "                      df_fdata_mid[df_fdata_mid['satisfaction'] < 0].shape[0],  df_fdata_high[df_fdata_high['satisfaction'] < 0].shape[0]]\n",
    "    \n",
    "    zero_sat_users = [df_fdata_initial[df_fdata_initial['satisfaction'] == 0].shape[0],\n",
    "                    df_fdata_none[df_fdata_none['satisfaction'] == 0].shape[0],  df_fdata_low[df_fdata_low['satisfaction'] == 0].shape[0], \n",
    "                      df_fdata_mid[df_fdata_mid['satisfaction'] == 0].shape[0],  df_fdata_high[df_fdata_high['satisfaction'] == 0].shape[0]]\n",
    "    \n",
    "    return pos_sat_users, neg_sat_users, zero_sat_users"
   ]
  },
  {
   "cell_type": "code",
   "execution_count": 220,
   "id": "e6351a23-0544-4bb8-82ef-8055c772ac5b",
   "metadata": {
    "tags": []
   },
   "outputs": [
    {
     "data": {
      "text/html": [
       "<div>\n",
       "<style scoped>\n",
       "    .dataframe tbody tr th:only-of-type {\n",
       "        vertical-align: middle;\n",
       "    }\n",
       "\n",
       "    .dataframe tbody tr th {\n",
       "        vertical-align: top;\n",
       "    }\n",
       "\n",
       "    .dataframe thead th {\n",
       "        text-align: right;\n",
       "    }\n",
       "</style>\n",
       "<table border=\"1\" class=\"dataframe\">\n",
       "  <thead>\n",
       "    <tr style=\"text-align: right;\">\n",
       "      <th></th>\n",
       "      <th>initial</th>\n",
       "      <th>none</th>\n",
       "      <th>low</th>\n",
       "      <th>mid</th>\n",
       "      <th>high</th>\n",
       "    </tr>\n",
       "  </thead>\n",
       "  <tbody>\n",
       "    <tr>\n",
       "      <th>posSatUsers</th>\n",
       "      <td>0.0</td>\n",
       "      <td>0.0</td>\n",
       "      <td>0.0</td>\n",
       "      <td>1.0</td>\n",
       "      <td>78.0</td>\n",
       "    </tr>\n",
       "    <tr>\n",
       "      <th>negSatUsers</th>\n",
       "      <td>0.0</td>\n",
       "      <td>100.0</td>\n",
       "      <td>100.0</td>\n",
       "      <td>99.0</td>\n",
       "      <td>21.0</td>\n",
       "    </tr>\n",
       "    <tr>\n",
       "      <th>zeroSatUsers</th>\n",
       "      <td>100.0</td>\n",
       "      <td>0.0</td>\n",
       "      <td>0.0</td>\n",
       "      <td>0.0</td>\n",
       "      <td>1.0</td>\n",
       "    </tr>\n",
       "  </tbody>\n",
       "</table>\n",
       "</div>"
      ],
      "text/plain": [
       "              initial   none    low   mid  high\n",
       "posSatUsers       0.0    0.0    0.0   1.0  78.0\n",
       "negSatUsers       0.0  100.0  100.0  99.0  21.0\n",
       "zeroSatUsers    100.0    0.0    0.0   0.0   1.0"
      ]
     },
     "execution_count": 220,
     "metadata": {},
     "output_type": "execute_result"
    }
   ],
   "source": [
    "res = []\n",
    "\n",
    "for i in range(1,9):\n",
    "\n",
    "    pos_sat_users, neg_sat_users, zero_sat_users = get_sat_users_metrics(1)\n",
    "    res.append([pos_sat_users, neg_sat_users, zero_sat_users])\n",
    "    \n",
    "res = np.array(res)\n",
    "df_sat_users = pd.DataFrame(res.mean(axis = 0), columns = ['initial', 'none', 'low', 'mid', 'high'])\n",
    "df_sat_users.index = ['posSatUsers', 'negSatUsers', 'zeroSatUsers']\n",
    "df_sat_users"
   ]
  },
  {
   "cell_type": "code",
   "execution_count": 221,
   "id": "564483ca-a971-4a66-9fc1-f383d7329bc5",
   "metadata": {
    "tags": []
   },
   "outputs": [],
   "source": [
    "df_secondary_metrics = pd.concat((df_active_users, df_pol_users, df_sat_users), axis = 0)\n",
    "# df_secondary_metrics.T.to_csv('results/table/sec_metrics.csv')"
   ]
  },
  {
   "cell_type": "code",
   "execution_count": 222,
   "id": "67212ffe-7bd5-4897-ab9b-389e8117c678",
   "metadata": {
    "tags": []
   },
   "outputs": [
    {
     "data": {
      "text/html": [
       "<div>\n",
       "<style scoped>\n",
       "    .dataframe tbody tr th:only-of-type {\n",
       "        vertical-align: middle;\n",
       "    }\n",
       "\n",
       "    .dataframe tbody tr th {\n",
       "        vertical-align: top;\n",
       "    }\n",
       "\n",
       "    .dataframe thead th {\n",
       "        text-align: right;\n",
       "    }\n",
       "</style>\n",
       "<table border=\"1\" class=\"dataframe\">\n",
       "  <thead>\n",
       "    <tr style=\"text-align: right;\">\n",
       "      <th></th>\n",
       "      <th>active</th>\n",
       "      <th>med</th>\n",
       "      <th>nonActive</th>\n",
       "      <th>pol</th>\n",
       "      <th>unPol</th>\n",
       "      <th>posSatUsers</th>\n",
       "      <th>negSatUsers</th>\n",
       "      <th>zeroSatUsers</th>\n",
       "    </tr>\n",
       "  </thead>\n",
       "  <tbody>\n",
       "    <tr>\n",
       "      <th>initial</th>\n",
       "      <td>2.125</td>\n",
       "      <td>52.875</td>\n",
       "      <td>45.000</td>\n",
       "      <td>83.0</td>\n",
       "      <td>17.0</td>\n",
       "      <td>0.0</td>\n",
       "      <td>0.0</td>\n",
       "      <td>100.0</td>\n",
       "    </tr>\n",
       "    <tr>\n",
       "      <th>none</th>\n",
       "      <td>31.125</td>\n",
       "      <td>32.875</td>\n",
       "      <td>36.000</td>\n",
       "      <td>80.0</td>\n",
       "      <td>20.0</td>\n",
       "      <td>0.0</td>\n",
       "      <td>100.0</td>\n",
       "      <td>0.0</td>\n",
       "    </tr>\n",
       "    <tr>\n",
       "      <th>low</th>\n",
       "      <td>63.000</td>\n",
       "      <td>6.375</td>\n",
       "      <td>30.625</td>\n",
       "      <td>91.0</td>\n",
       "      <td>9.0</td>\n",
       "      <td>0.0</td>\n",
       "      <td>100.0</td>\n",
       "      <td>0.0</td>\n",
       "    </tr>\n",
       "    <tr>\n",
       "      <th>mid</th>\n",
       "      <td>50.250</td>\n",
       "      <td>18.750</td>\n",
       "      <td>31.000</td>\n",
       "      <td>90.0</td>\n",
       "      <td>10.0</td>\n",
       "      <td>1.0</td>\n",
       "      <td>99.0</td>\n",
       "      <td>0.0</td>\n",
       "    </tr>\n",
       "    <tr>\n",
       "      <th>high</th>\n",
       "      <td>47.875</td>\n",
       "      <td>25.000</td>\n",
       "      <td>27.125</td>\n",
       "      <td>78.0</td>\n",
       "      <td>22.0</td>\n",
       "      <td>78.0</td>\n",
       "      <td>21.0</td>\n",
       "      <td>1.0</td>\n",
       "    </tr>\n",
       "  </tbody>\n",
       "</table>\n",
       "</div>"
      ],
      "text/plain": [
       "         active     med  nonActive   pol  unPol  posSatUsers  negSatUsers  \\\n",
       "initial   2.125  52.875     45.000  83.0   17.0          0.0          0.0   \n",
       "none     31.125  32.875     36.000  80.0   20.0          0.0        100.0   \n",
       "low      63.000   6.375     30.625  91.0    9.0          0.0        100.0   \n",
       "mid      50.250  18.750     31.000  90.0   10.0          1.0         99.0   \n",
       "high     47.875  25.000     27.125  78.0   22.0         78.0         21.0   \n",
       "\n",
       "         zeroSatUsers  \n",
       "initial         100.0  \n",
       "none              0.0  \n",
       "low               0.0  \n",
       "mid               0.0  \n",
       "high              1.0  "
      ]
     },
     "execution_count": 222,
     "metadata": {},
     "output_type": "execute_result"
    }
   ],
   "source": [
    "df_secondary_metrics = df_secondary_metrics.T\n",
    "df_secondary_metrics"
   ]
  },
  {
   "cell_type": "code",
   "execution_count": 223,
   "id": "2bea29a2-2237-4462-a3c0-7f5dae707403",
   "metadata": {
    "tags": []
   },
   "outputs": [
    {
     "data": {
      "text/html": [
       "<div>\n",
       "<style scoped>\n",
       "    .dataframe tbody tr th:only-of-type {\n",
       "        vertical-align: middle;\n",
       "    }\n",
       "\n",
       "    .dataframe tbody tr th {\n",
       "        vertical-align: top;\n",
       "    }\n",
       "\n",
       "    .dataframe thead th {\n",
       "        text-align: right;\n",
       "    }\n",
       "</style>\n",
       "<table border=\"1\" class=\"dataframe\">\n",
       "  <thead>\n",
       "    <tr style=\"text-align: right;\">\n",
       "      <th></th>\n",
       "      <th>active</th>\n",
       "      <th>med</th>\n",
       "      <th>nonActive</th>\n",
       "      <th>pol</th>\n",
       "      <th>unPol</th>\n",
       "      <th>posSatUsers</th>\n",
       "      <th>negSatUsers</th>\n",
       "      <th>zeroSatUsers</th>\n",
       "    </tr>\n",
       "  </thead>\n",
       "  <tbody>\n",
       "    <tr>\n",
       "      <th>initial</th>\n",
       "      <td>2.125</td>\n",
       "      <td>52.875</td>\n",
       "      <td>45.000</td>\n",
       "      <td>83.000</td>\n",
       "      <td>17.000</td>\n",
       "      <td>0.000</td>\n",
       "      <td>0.000</td>\n",
       "      <td>100.000</td>\n",
       "    </tr>\n",
       "    <tr>\n",
       "      <th>none</th>\n",
       "      <td>31.125</td>\n",
       "      <td>32.875</td>\n",
       "      <td>36.000</td>\n",
       "      <td>80.000</td>\n",
       "      <td>20.000</td>\n",
       "      <td>0.000</td>\n",
       "      <td>100.000</td>\n",
       "      <td>0.000</td>\n",
       "    </tr>\n",
       "    <tr>\n",
       "      <th>low</th>\n",
       "      <td>63.000</td>\n",
       "      <td>6.375</td>\n",
       "      <td>30.625</td>\n",
       "      <td>91.000</td>\n",
       "      <td>9.000</td>\n",
       "      <td>0.000</td>\n",
       "      <td>100.000</td>\n",
       "      <td>0.000</td>\n",
       "    </tr>\n",
       "    <tr>\n",
       "      <th>mid</th>\n",
       "      <td>50.250</td>\n",
       "      <td>18.750</td>\n",
       "      <td>31.000</td>\n",
       "      <td>90.000</td>\n",
       "      <td>10.000</td>\n",
       "      <td>1.000</td>\n",
       "      <td>99.000</td>\n",
       "      <td>0.000</td>\n",
       "    </tr>\n",
       "    <tr>\n",
       "      <th>high</th>\n",
       "      <td>47.875</td>\n",
       "      <td>25.000</td>\n",
       "      <td>27.125</td>\n",
       "      <td>78.000</td>\n",
       "      <td>22.000</td>\n",
       "      <td>78.000</td>\n",
       "      <td>21.000</td>\n",
       "      <td>1.000</td>\n",
       "    </tr>\n",
       "  </tbody>\n",
       "</table>\n",
       "</div>"
      ],
      "text/plain": [
       "         active     med nonActive     pol   unPol posSatUsers negSatUsers  \\\n",
       "initial   2.125  52.875    45.000  83.000  17.000       0.000       0.000   \n",
       "none     31.125  32.875    36.000  80.000  20.000       0.000     100.000   \n",
       "low      63.000   6.375    30.625  91.000   9.000       0.000     100.000   \n",
       "mid      50.250  18.750    31.000  90.000  10.000       1.000      99.000   \n",
       "high     47.875  25.000    27.125  78.000  22.000      78.000      21.000   \n",
       "\n",
       "        zeroSatUsers  \n",
       "initial      100.000  \n",
       "none           0.000  \n",
       "low            0.000  \n",
       "mid            0.000  \n",
       "high           1.000  "
      ]
     },
     "execution_count": 223,
     "metadata": {},
     "output_type": "execute_result"
    }
   ],
   "source": [
    "df_secondary_metrics = df_secondary_metrics.applymap(lambda x: f\"{x:.3f}\" if isinstance(x, float) else x)\n",
    "df_secondary_metrics"
   ]
  },
  {
   "cell_type": "code",
   "execution_count": 224,
   "id": "37832c80-71d5-4880-8f60-35c820fe445d",
   "metadata": {
    "tags": []
   },
   "outputs": [],
   "source": [
    "df_secondary_metrics.to_csv(\"results/table/sec_metrics.csv\")"
   ]
  },
  {
   "cell_type": "code",
   "execution_count": null,
   "id": "00f218b8-33dd-423e-b895-ac8a34471d52",
   "metadata": {},
   "outputs": [],
   "source": []
  }
 ],
 "metadata": {
  "kernelspec": {
   "display_name": "py3_10",
   "language": "python",
   "name": "py3_10"
  },
  "language_info": {
   "codemirror_mode": {
    "name": "ipython",
    "version": 3
   },
   "file_extension": ".py",
   "mimetype": "text/x-python",
   "name": "python",
   "nbconvert_exporter": "python",
   "pygments_lexer": "ipython3",
   "version": "3.10.12"
  }
 },
 "nbformat": 4,
 "nbformat_minor": 5
}
